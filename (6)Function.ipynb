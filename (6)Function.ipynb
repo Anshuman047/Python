{
 "cells": [
  {
   "cell_type": "markdown",
   "id": "bf483ea3-d782-423d-b185-4ff7c6f111e1",
   "metadata": {},
   "source": [
    "# Function"
   ]
  },
  {
   "cell_type": "code",
   "execution_count": 26,
   "id": "02fe1f0d-4656-49b6-9352-4c1318948b3a",
   "metadata": {},
   "outputs": [
    {
     "name": "stdin",
     "output_type": "stream",
     "text": [
      " 4\n",
      " 2\n"
     ]
    },
    {
     "name": "stdout",
     "output_type": "stream",
     "text": [
      "4 Factorial is 24\n",
      "2 Factorial is 2\n",
      "2 Factorial is  2\n",
      "nCr is: 6\n"
     ]
    }
   ],
   "source": [
    "n=int(input())\n",
    "r=int(input())\n",
    "\n",
    "n_fact=1\n",
    "for i in range(1,n+1):\n",
    "    n_fact=n_fact*i\n",
    "print(n,\"Factorial is\",n_fact)\n",
    "\n",
    "r_fact=1\n",
    "for i in range(1,r+1):\n",
    "    r_fact=r_fact*i\n",
    "print(r,\"Factorial is\",r_fact)\n",
    "\n",
    "n_r_fact=1\n",
    "for i in range(1,n-r+1):\n",
    "    n_r_fact=n_r_fact*i\n",
    "print(n-r,\"Factorial is \",n_r_fact)\n",
    "\n",
    "print(\"nCr is:\",n_fact//(n_r_fact*r_fact))\n"
   ]
  },
  {
   "cell_type": "markdown",
   "id": "07943dbc-844c-4518-91b3-7e61c8f0128a",
   "metadata": {},
   "source": [
    "# Above whole can be minimized by using function using def-keyword"
   ]
  },
  {
   "cell_type": "code",
   "execution_count": 35,
   "id": "235732fa-4c9c-4107-b4c5-5bb34d344336",
   "metadata": {},
   "outputs": [],
   "source": [
    "# Define the function for factorial\n",
    "def fact(n):\n",
    "    n_fact=1\n",
    "    for i in range(1,n+1):\n",
    "        n_fact=n_fact*i\n",
    "    print(n,\"Factorial is\",n_fact)\n",
    "    return n_fact\n",
    "#Call the function : fact(n)"
   ]
  },
  {
   "cell_type": "code",
   "execution_count": 39,
   "id": "7153b05c-ff88-4d9e-a9b1-856fe7f5fe2c",
   "metadata": {},
   "outputs": [
    {
     "name": "stdin",
     "output_type": "stream",
     "text": [
      " 4\n",
      " 2\n"
     ]
    },
    {
     "name": "stdout",
     "output_type": "stream",
     "text": [
      "4 Factorial is 24\n",
      "2 Factorial is 2\n",
      "2 Factorial is 2\n",
      "nCr: 6\n"
     ]
    }
   ],
   "source": [
    "#nCr\n",
    "n=int(input())\n",
    "r=int(input())\n",
    "n_fact=fact(n)\n",
    "r_fact=fact(r)\n",
    "n_r_fact=fact(n-r)\n",
    "print(\"nCr:\",n_fact//(n_r_fact*r_fact))"
   ]
  },
  {
   "cell_type": "code",
   "execution_count": 51,
   "id": "346ebb16-6c61-4794-ae64-ada474724812",
   "metadata": {},
   "outputs": [],
   "source": [
    "#Check if the number prime or not:\n",
    "def Prime(n):\n",
    "    flag=False\n",
    "    for i in range(2,n):\n",
    "        if(n%i==0):\n",
    "            flag=True\n",
    "            break\n",
    "    if(flag):\n",
    "        print(n,\"is non-prime!\")\n",
    "    else:\n",
    "        print(n,\"is prime!\")"
   ]
  },
  {
   "cell_type": "code",
   "execution_count": 52,
   "id": "77655758-f987-4362-a7ae-90c9b32208ca",
   "metadata": {},
   "outputs": [
    {
     "name": "stdin",
     "output_type": "stream",
     "text": [
      " 11\n"
     ]
    },
    {
     "name": "stdout",
     "output_type": "stream",
     "text": [
      "11 is prime!\n"
     ]
    }
   ],
   "source": [
    "n=int(input())\n",
    "Prime(n)"
   ]
  },
  {
   "cell_type": "code",
   "execution_count": 65,
   "id": "a28ffbe8-b2e7-4b7a-be17-3027f75e863f",
   "metadata": {},
   "outputs": [],
   "source": [
    "def nCr(n,r):\n",
    "    # n=int(input())\n",
    "    # r=int(input())\n",
    "    n_fact=fact(n)\n",
    "    r_fact=fact(r)\n",
    "    n_r_fact=fact(n-r)\n",
    "    print(\"nCr:\",n_fact//(n_r_fact*r_fact))"
   ]
  },
  {
   "cell_type": "code",
   "execution_count": 66,
   "id": "21b536d2-445b-4875-b3a4-bf0dc624c5b4",
   "metadata": {
    "tags": []
   },
   "outputs": [
    {
     "name": "stdin",
     "output_type": "stream",
     "text": [
      " 4\n",
      " 2\n"
     ]
    },
    {
     "name": "stdout",
     "output_type": "stream",
     "text": [
      "4 Factorial is 24\n",
      "2 Factorial is 2\n",
      "2 Factorial is 2\n",
      "nCr: 6\n"
     ]
    }
   ],
   "source": [
    "n=int(input())\n",
    "r=int(input())\n",
    "\n",
    "nCr(n,r)"
   ]
  },
  {
   "cell_type": "markdown",
   "id": "139520f6-d835-41d1-a2d7-5a5d937b23f3",
   "metadata": {},
   "source": [
    "# Function-List"
   ]
  },
  {
   "cell_type": "code",
   "execution_count": 86,
   "id": "1213db48-33f0-4359-bf57-75db5c979504",
   "metadata": {},
   "outputs": [
    {
     "name": "stdout",
     "output_type": "stream",
     "text": [
      "i: 11\n",
      "k: 10\n"
     ]
    }
   ],
   "source": [
    "def increment(i):\n",
    "    i+=1\n",
    "    print(\"i:\",i)\n",
    "k=10\n",
    "increment(k)\n",
    "print(\"k:\",k)\n",
    "#Here the value of K is not changed bcz here i&k are both pointing->10, and for i: \n",
    "# 10 changes to 11, means now i pointing to other compartement where it has 11\n",
    "# rather than pointing same compartment to 10 with k-before"
   ]
  },
  {
   "cell_type": "code",
   "execution_count": 81,
   "id": "dfc0f450-ee8d-41df-9b8c-cf987dad145c",
   "metadata": {},
   "outputs": [
    {
     "name": "stdout",
     "output_type": "stream",
     "text": [
      "l[]: [2, 2, 3]\n",
      "a[]: [2, 2, 3]\n"
     ]
    }
   ],
   "source": [
    "def increament_list_first(l):\n",
    "    l[0]=l[0]+1 #here l only increases the index of the list\n",
    "    print(\"l[]:\",l)\n",
    "a=[1,2,3]\n",
    "increament_list_first(a)\n",
    "print(\"a[]:\",a)\n",
    "# Here the a[0]-will changes as bcz \"l\" has changed the first index of the list-a\n",
    "# as it doesnot changes the whole list-a, so it remains to point the same compartment\n",
    "# as before if l has changed the whole list then it would point to the new list \n",
    "#at new compartment\n",
    "#If l changes the whole list then a-list will point to the new list in other compartment"
   ]
  },
  {
   "cell_type": "code",
   "execution_count": 85,
   "id": "bc3cf5ac-1a38-48d4-85d9-8206abd26ae8",
   "metadata": {},
   "outputs": [
    {
     "name": "stdout",
     "output_type": "stream",
     "text": [
      "l[]: [2]\n",
      "a[]: [1, 2, 3]\n"
     ]
    }
   ],
   "source": [
    "def change_list(l):\n",
    "    l=[2] #here l wholy changes the value of list, so it would now point to the new\n",
    "    # list at new compartment\n",
    "    print(\"l[]:\",l)\n",
    "a=[1,2,3]\n",
    "change_list(a)\n",
    "print(\"a[]:\",a)\n"
   ]
  },
  {
   "cell_type": "code",
   "execution_count": 91,
   "id": "8330548b-4db2-4e12-801f-ecbcdc98f5df",
   "metadata": {},
   "outputs": [
    {
     "name": "stdout",
     "output_type": "stream",
     "text": [
      "a: def\n",
      "c: abc\n"
     ]
    }
   ],
   "source": [
    "#but what changes you do with the string , its var doesnot care it, he new changes would only ne refected in the new variable\n",
    "def change_str(b):\n",
    "    b=\"abc\"\n",
    "    return b\n",
    "a=\"def\"\n",
    "c=change_str(a)\n",
    "print(\"a:\",a)\n",
    "print(\"c:\",c)"
   ]
  },
  {
   "cell_type": "code",
   "execution_count": 109,
   "id": "6a8db501-4fe6-45da-87ac-b2b8b1825158",
   "metadata": {},
   "outputs": [
    {
     "data": {
      "text/plain": [
       "[10, 9, 8, 7, 6, 5, 4, 3, 2, 1, 0]"
      ]
     },
     "execution_count": 109,
     "metadata": {},
     "output_type": "execute_result"
    }
   ],
   "source": [
    "def create_rev_array(n):\n",
    "        # l=[]\n",
    "        # for i in range(n,-1,-1):\n",
    "        #     l.append(i) # will add the i from the end of the array\n",
    "        l=[i for i in range(n,-1,-1)] #would give same as above commented code\n",
    "        return l\n",
    "l=create_rev_array(10)\n",
    "l"
   ]
  },
  {
   "cell_type": "code",
   "execution_count": 26,
   "id": "00e15375-accb-4114-8430-834852b59c8d",
   "metadata": {},
   "outputs": [
    {
     "name": "stdout",
     "output_type": "stream",
     "text": [
      "[2, 1, 4, 3, 6, 5]\n",
      "[2, 1, 4, 3, 6, 5]\n"
     ]
    }
   ],
   "source": [
    "#Swap consecutive pairs in the array\n",
    "def swap(n):\n",
    "    for i in range(0,len(n)-1,2):\n",
    "        c=n[i]\n",
    "        n[i]=n[i+1]\n",
    "        n[i+1]=c\n",
    "    print(n)\n",
    "n=[1,2,3,4,5,6]\n",
    "swap(n)\n",
    "\n",
    "def swap1(n):\n",
    "    for i in range(0, len(n) - 1, 2):\n",
    "        n[i], n[i+1] = n[i+1], n[i]\n",
    "    print(n)\n",
    "\n",
    "n = [1, 2, 3, 4, 5, 6]\n",
    "swap1(n)\n"
   ]
  },
  {
   "cell_type": "markdown",
   "id": "efc15ea8-204f-416e-93cf-d95f575cadcc",
   "metadata": {},
   "source": [
    "## Global-Local Var"
   ]
  },
  {
   "cell_type": "code",
   "execution_count": 35,
   "id": "8164cc81-512d-45b7-a3a5-aadbeb9770ab",
   "metadata": {},
   "outputs": [],
   "source": [
    "a=10 #Global var\n",
    "def f1():\n",
    "    b=12 #local var\n",
    "    print(b) #only accessed inside the respective function\n",
    "    print(a) #Global var can be accessed from anywhere of the code(inside function)\n",
    "    print(a2)#Global var can be accessed from anywhere of the code(inside function)\n",
    "    print(a6)#Global var can be accessed from anywhere of the code(inside function) \n",
    "    #but a4 will not be printed as deinined after calling of the fucntion\n",
    "a2=13\n",
    "\n",
    "f1() # while calling the global var,it should not necessary to be defined\n",
    "# before defining function like a3,but deined before calling of function,which is necessary\n",
    "a6=12213# It will not be prined as deined after calling\n",
    "\n",
    "# print(b) #but local var cannot be accessed globally only locally(inside function)\n",
    "print(a) #global var can also be acessed globally\n",
    "print(a2) #global var can aslo be acessed globally\n"
   ]
  },
  {
   "cell_type": "code",
   "execution_count": 5,
   "id": "cc655a78-15b0-4e53-8657-4f91bece3aa7",
   "metadata": {},
   "outputs": [
    {
     "name": "stdout",
     "output_type": "stream",
     "text": [
      "12\n",
      "1869187449424\n",
      "13\n",
      "1869187449456\n"
     ]
    }
   ],
   "source": [
    "a4=13 #global varaible\n",
    "def f4():\n",
    "    a4=12 #local different variable, created a new diferent local variable\n",
    "    print(a4)\n",
    "    print(id(a4))\n",
    "f4()\n",
    "print(a4)\n",
    "print(id(a4))"
   ]
  },
  {
   "cell_type": "code",
   "execution_count": 4,
   "id": "910a5194-920c-44b2-85dc-4129801b1184",
   "metadata": {},
   "outputs": [
    {
     "name": "stdout",
     "output_type": "stream",
     "text": [
      "12\n",
      "1869187449424\n",
      "12\n",
      "1869187449424\n"
     ]
    }
   ],
   "source": [
    "a4=13 #global varaible\n",
    "def f4():\n",
    "    global a4 #tells that here a4 I am going to use is already avaiable globally\n",
    "    a4=12 #asme global variable above defined\n",
    "    print(a4)\n",
    "    print(id(a4))\n",
    "f4()\n",
    "print(a4)\n",
    "print(id(a4))"
   ]
  },
  {
   "cell_type": "markdown",
   "id": "c4c9b01e-9817-4051-84f3-7e6c78a6a8c7",
   "metadata": {},
   "source": [
    "# Default-Argument\n",
    "* Non-default arguments should be written first, the at last default arguments should come"
   ]
  },
  {
   "cell_type": "code",
   "execution_count": 15,
   "id": "8d6a7605-2231-4b5e-a4ce-e3cd17c41399",
   "metadata": {},
   "outputs": [
    {
     "name": "stdout",
     "output_type": "stream",
     "text": [
      "c: 4\n",
      "9\n",
      "c: 0\n",
      "5\n"
     ]
    }
   ],
   "source": [
    "def sum(a,b,c=0): #Here we have set c as 0 which means if third argument is not passed while function the value of is set as 0 bydefault which is default-Argumnet \n",
    "    print(\"c:\",c)\n",
    "    return a+b+c\n",
    "print(sum(2,3,4)) #default-argument(0) get overridden as third argument is there\n",
    "print(sum(2,3)) #default-argument is there as there is no third argument"
   ]
  },
  {
   "cell_type": "code",
   "execution_count": 18,
   "id": "a67bef16-78fc-43d1-922a-eb1a1432012e",
   "metadata": {},
   "outputs": [],
   "source": [
    "def f(a=0,b,c):\n",
    "    return a+b+c\n",
    "print(f(,2,3)) #non-default argument follows default argument"
   ]
  },
  {
   "cell_type": "code",
   "execution_count": 25,
   "id": "323abda5-b046-474d-86be-91e4df3c3eae",
   "metadata": {},
   "outputs": [
    {
     "name": "stdout",
     "output_type": "stream",
     "text": [
      "7\n"
     ]
    },
    {
     "data": {
      "text/plain": [
       "23"
      ]
     },
     "execution_count": 25,
     "metadata": {},
     "output_type": "execute_result"
    }
   ],
   "source": [
    "def f1(a,b,c=2,d=0):\n",
    "    return a+b+c+d\n",
    "print((f1(2,3)))\n",
    "\n",
    "f1(b=10,a=4,c=9) # if you are giving names and assing the arguments data tor espective variable\n",
    "# then order is not necessary while else it is necessary"
   ]
  },
  {
   "cell_type": "code",
   "execution_count": null,
   "id": "1517b8be-c1fa-4d21-aebd-ab94a1dc57e4",
   "metadata": {},
   "outputs": [],
   "source": []
  }
 ],
 "metadata": {
  "kernelspec": {
   "display_name": "Python 3 (ipykernel)",
   "language": "python",
   "name": "python3"
  },
  "language_info": {
   "codemirror_mode": {
    "name": "ipython",
    "version": 3
   },
   "file_extension": ".py",
   "mimetype": "text/x-python",
   "name": "python",
   "nbconvert_exporter": "python",
   "pygments_lexer": "ipython3",
   "version": "3.10.9"
  }
 },
 "nbformat": 4,
 "nbformat_minor": 5
}
