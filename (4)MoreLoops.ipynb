{
 "cells": [
  {
   "cell_type": "markdown",
   "id": "b1793d96-5fe6-4fa6-ad7b-69a4b1c6ef37",
   "metadata": {},
   "source": [
    "# For-Loop"
   ]
  },
  {
   "cell_type": "code",
   "execution_count": 3,
   "id": "7f1823e4-0bb0-4145-bcdd-e2db12981664",
   "metadata": {},
   "outputs": [
    {
     "name": "stdout",
     "output_type": "stream",
     "text": [
      "abcd"
     ]
    }
   ],
   "source": [
    "a='abcd'\n",
    "for c in a: # in this \"c\" is considered as at first index of the string\n",
    "    print(c ,end=\"\")"
   ]
  },
  {
   "cell_type": "code",
   "execution_count": 18,
   "id": "3efc5ee2-4ef3-4303-b5cc-7737bec69e68",
   "metadata": {},
   "outputs": [
    {
     "name": "stdin",
     "output_type": "stream",
     "text": [
      " 3\n"
     ]
    },
    {
     "name": "stdout",
     "output_type": "stream",
     "text": [
      "0\n",
      "1\n",
      "2\n",
      "3\n"
     ]
    }
   ],
   "source": [
    "#All three-values are given to range \n",
    "n=int(input())\n",
    "for i in range(0,n+1,1): # range(\"start\",\"stop\",\"how much to increase\")\n",
    "    print(i)             #Here stop refers iteration will stop just before \"stop\"\n",
    "     "
   ]
  },
  {
   "cell_type": "code",
   "execution_count": 11,
   "id": "a5c24e50-8947-4775-ad6c-de9a6616ae0f",
   "metadata": {},
   "outputs": [
    {
     "name": "stdin",
     "output_type": "stream",
     "text": [
      " 10\n"
     ]
    },
    {
     "name": "stdout",
     "output_type": "stream",
     "text": [
      "0\n",
      "1\n",
      "2\n",
      "3\n",
      "4\n",
      "5\n",
      "6\n",
      "7\n",
      "8\n",
      "9\n",
      "10\n"
     ]
    }
   ],
   "source": [
    "# Only one value to range and it uses it as stop and by-default 0 for start and 1 for step\n",
    "n=int(input())\n",
    "for i in range(n+1): # In For-Loop by-default start=0, stride=1\n",
    "    print(i)"
   ]
  },
  {
   "cell_type": "code",
   "execution_count": 25,
   "id": "9f28918f-45c2-400e-a12a-7f79deae6e51",
   "metadata": {},
   "outputs": [
    {
     "name": "stdin",
     "output_type": "stream",
     "text": [
      " 10\n"
     ]
    },
    {
     "name": "stdout",
     "output_type": "stream",
     "text": [
      "1\n",
      "2\n",
      "3\n",
      "4\n",
      "5\n",
      "6\n",
      "7\n",
      "8\n",
      "9\n",
      "10\n"
     ]
    }
   ],
   "source": [
    "#Only two values given to range and it uses it as start and stop  \n",
    "n=int(input())\n",
    "for i in range(1,n+1):\n",
    "    print(i)"
   ]
  },
  {
   "cell_type": "code",
   "execution_count": 28,
   "id": "cdc4fb93-ffc4-4b8d-a5c9-23fb53e5b0e2",
   "metadata": {},
   "outputs": [
    {
     "name": "stdin",
     "output_type": "stream",
     "text": [
      " 10\n"
     ]
    },
    {
     "name": "stdout",
     "output_type": "stream",
     "text": [
      "10\n",
      "9\n",
      "8\n",
      "7\n",
      "6\n",
      "5\n",
      "4\n",
      "3\n",
      "2\n",
      "1\n"
     ]
    }
   ],
   "source": [
    "# Printing reverse order in which the step is -1 means decreasing and  starts from n and stop iss 0 means it will stops at 1\n",
    "n=int(input())\n",
    "for i in range(n,0,-1):\n",
    "    print(i)"
   ]
  },
  {
   "cell_type": "code",
   "execution_count": 39,
   "id": "40862e7e-edcd-4f29-9988-454ab94b67e3",
   "metadata": {},
   "outputs": [
    {
     "name": "stdin",
     "output_type": "stream",
     "text": [
      " 4\n",
      " 5\n"
     ]
    },
    {
     "name": "stdout",
     "output_type": "stream",
     "text": [
      "Should start with multiple of 3!!\n"
     ]
    }
   ],
   "source": [
    "# Printing multiples of 3\n",
    "n=int(input()) # =multiple of 3\n",
    "m=int(input())\n",
    "for i in range(n,m+1,+3):\n",
    "    if i%3==0:\n",
    "        print(i)\n",
    "    else:\n",
    "        print(\"Should start with multiple of 3!!\")"
   ]
  },
  {
   "cell_type": "code",
   "execution_count": 64,
   "id": "5665b492-b4c2-4bd4-8766-ad9045323ad0",
   "metadata": {},
   "outputs": [
    {
     "name": "stdin",
     "output_type": "stream",
     "text": [
      " 7\n"
     ]
    },
    {
     "name": "stdout",
     "output_type": "stream",
     "text": [
      "7 ,It is a prime number!\n"
     ]
    }
   ],
   "source": [
    "#check if it is prime or not\n",
    "n=int(input())\n",
    "counter=0\n",
    "for i in range(2,n,1):\n",
    "    if(n%i==0):\n",
    "        counter+=1\n",
    "        \n",
    "if(counter!=0):\n",
    "    print(\"The number\",n,\"is not a prime number\")\n",
    "else:\n",
    "    print(n,\",It is a prime number!\")"
   ]
  },
  {
   "cell_type": "code",
   "execution_count": 15,
   "id": "1020e340-502a-4ac6-8611-8298ec7d992a",
   "metadata": {},
   "outputs": [
    {
     "name": "stdin",
     "output_type": "stream",
     "text": [
      " 4\n"
     ]
    },
    {
     "name": "stdout",
     "output_type": "stream",
     "text": [
      "   1\n",
      "  232\n",
      " 34543\n",
      "4567654\n"
     ]
    }
   ],
   "source": [
    "#Pattern only for input-4\n",
    "n=int(input())\n",
    "for i in range(0,n,1):\n",
    "    m=i+1\n",
    "    r=2*i\n",
    "    for s in range(1,n-i,1): # loop for space in starting\n",
    "        print(\" \", end=\"\")\n",
    "    for j in range(n-i,n+1,1): # Loop for increaing inside pattern\n",
    "        print(m,end=\"\")\n",
    "        m+=1\n",
    "    for d in range(n+1,2*2+i+1,1): # Loop for decreasing inside pattern\n",
    "        print(r,end=\"\")\n",
    "        r-=1\n",
    "    print() #For next line\n",
    "    i+-1"
   ]
  },
  {
   "cell_type": "code",
   "execution_count": 7,
   "id": "06eb72c7-61b0-4092-88e8-c57ff3ee06e1",
   "metadata": {},
   "outputs": [
    {
     "name": "stdin",
     "output_type": "stream",
     "text": [
      " 5\n"
     ]
    },
    {
     "name": "stdout",
     "output_type": "stream",
     "text": [
      "    1\n",
      "   232\n",
      "  34543\n",
      " 4567654\n",
      "567898765\n"
     ]
    }
   ],
   "source": [
    "#same above Pattern - Code is universal for input-[1,5]\n",
    "n=int(input())\n",
    "for i in range(1,n+1,1):\n",
    "    for s in range(n-i):\n",
    "        print(\" \", end=\"\")\n",
    "    for j in range(i,2*i,1):\n",
    "        print(j, end=\"\")\n",
    "    for q in range(2*i-2,i-1,-1):\n",
    "        print(q, end=\"\")\n",
    "    print()"
   ]
  },
  {
   "cell_type": "code",
   "execution_count": 12,
   "id": "00e043e2-3ed1-4d1d-886f-f8f428c6b398",
   "metadata": {},
   "outputs": [
    {
     "name": "stdout",
     "output_type": "stream",
     "text": [
      "      1\n",
      "     1 1\n",
      "    1 2 1\n",
      "   1 3 3 1\n",
      "  1 4 6 4 1\n"
     ]
    }
   ],
   "source": [
    "#Pascal Patter\n",
    "# Print Pascal's Triangle in Python\n",
    " \n",
    "# input n\n",
    "n = 5\n",
    " \n",
    "for i in range(1, n+1):\n",
    "    for j in range(0, n-i+1):\n",
    "        print(' ', end='')\n",
    " \n",
    "    # first element is always 1\n",
    "    C = 1\n",
    "    for j in range(1, i+1):\n",
    " \n",
    "        # first value in a line is always 1\n",
    "        print(' ', C, sep='', end='')\n",
    " \n",
    "        # using Binomial Coefficient\n",
    "        C = C * (i - j) // j\n",
    "    print()\n"
   ]
  },
  {
   "cell_type": "markdown",
   "id": "71e6802e-7bbd-42ad-88bf-d4ee105fd15b",
   "metadata": {},
   "source": [
    "# Break\n",
    "* In nested loop, it breaks the inner-loop only!!\n",
    "\n",
    "* Code insde else will not be executed if the while/for loop is finished bcz of \"Break statement\", rather else will be executed when condtion isde the loop is not matched"
   ]
  },
  {
   "cell_type": "code",
   "execution_count": 118,
   "id": "55856bb7-3b83-4191-9f25-e82021d1fa3f",
   "metadata": {},
   "outputs": [
    {
     "name": "stdout",
     "output_type": "stream",
     "text": [
      "1\n",
      "2\n",
      "3\n",
      "4\n",
      "5\n"
     ]
    }
   ],
   "source": [
    " i=1\n",
    "while i<10:\n",
    "    print(i)\n",
    "    if(i==5):\n",
    "        break # used to terminate the loop on required condition\n",
    "    i+=1"
   ]
  },
  {
   "cell_type": "code",
   "execution_count": 143,
   "id": "fe9d0a6e-0a22-48ad-b923-980f167db82d",
   "metadata": {},
   "outputs": [
    {
     "name": "stdin",
     "output_type": "stream",
     "text": [
      " 123456789\n"
     ]
    },
    {
     "name": "stdout",
     "output_type": "stream",
     "text": [
      "It is not prime!!\n"
     ]
    }
   ],
   "source": [
    "n=int(input())\n",
    "flag=False\n",
    "for i in range(2,n,1):\n",
    "    if(n%i==0):\n",
    "        flag=True\n",
    "        break # written so that once flag-true no further computation required , more optimized code\n",
    "              # So for big number it would takes less time rather than long time without break\n",
    "if flag==False:\n",
    "    print('It is prime!')\n",
    "else:\n",
    "    print(\"It is not prime!!\")"
   ]
  },
  {
   "cell_type": "markdown",
   "id": "18b4f489-6207-4dcb-b814-7741f6c34149",
   "metadata": {},
   "source": [
    "# Continue\n",
    "\n",
    "* Used when to skip the iteration"
   ]
  },
  {
   "cell_type": "code",
   "execution_count": 150,
   "id": "ee552f52-7542-4814-9c17-6074b15c7cb2",
   "metadata": {},
   "outputs": [
    {
     "name": "stdin",
     "output_type": "stream",
     "text": [
      " 10\n"
     ]
    },
    {
     "name": "stdout",
     "output_type": "stream",
     "text": [
      "1\n",
      "2\n",
      "3\n",
      "4\n",
      "5\n",
      "6\n",
      "8\n",
      "9\n",
      "10\n"
     ]
    }
   ],
   "source": [
    "n=int(input())\n",
    "for i in range(1,n+1,1):\n",
    "    if(i%7==0):\n",
    "        continue # It will skip 7, from here again goes to loop starting\n",
    "    print(i)"
   ]
  },
  {
   "cell_type": "markdown",
   "id": "f4ba1394-afa5-48b0-b7c5-4541f825b80d",
   "metadata": {},
   "source": [
    "# Pass\n",
    "* It is used when, there is no code inside a scope any operator as because unlike cpp and java , python donot allow a empty scope to be executed"
   ]
  },
  {
   "cell_type": "code",
   "execution_count": 160,
   "id": "d07003ed-2266-48ab-9b4e-6d5025023098",
   "metadata": {},
   "outputs": [
    {
     "name": "stdout",
     "output_type": "stream",
     "text": [
      "Hello World!\n"
     ]
    }
   ],
   "source": [
    "i=3\n",
    "if i<7:\n",
    "    pass\n",
    "\n",
    "print(\"Hello World!\")"
   ]
  }
 ],
 "metadata": {
  "kernelspec": {
   "display_name": "Python 3 (ipykernel)",
   "language": "python",
   "name": "python3"
  },
  "language_info": {
   "codemirror_mode": {
    "name": "ipython",
    "version": 3
   },
   "file_extension": ".py",
   "mimetype": "text/x-python",
   "name": "python",
   "nbconvert_exporter": "python",
   "pygments_lexer": "ipython3",
   "version": "3.10.9"
  }
 },
 "nbformat": 4,
 "nbformat_minor": 5
}
