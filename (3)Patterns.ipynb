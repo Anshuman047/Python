{
 "cells": [
  {
   "cell_type": "markdown",
   "id": "bff4e13c-f27d-4011-9bd1-81a78aec6594",
   "metadata": {},
   "source": [
    "# Square Patterns"
   ]
  },
  {
   "cell_type": "markdown",
   "id": "4e3dd533-1264-4413-ac49-b3b2959b157b",
   "metadata": {},
   "source": [
    "## For-Numbers"
   ]
  },
  {
   "cell_type": "code",
   "execution_count": 9,
   "id": "3eb6a7e5-7c40-436a-9642-e427471f2bd1",
   "metadata": {},
   "outputs": [
    {
     "name": "stdin",
     "output_type": "stream",
     "text": [
      " 5\n"
     ]
    },
    {
     "name": "stdout",
     "output_type": "stream",
     "text": [
      "* * * *\n",
      "* * * *\n",
      "* * * *\n",
      "* * * *\n",
      "* * * *\n"
     ]
    }
   ],
   "source": [
    "# Printing square-patterns with common-coloumns\n",
    "n=int(input())\n",
    "i=0\n",
    "while i<n:\n",
    "    print(\"* * * *\")\n",
    "    i+=1"
   ]
  },
  {
   "cell_type": "code",
   "execution_count": 23,
   "id": "5822c840-7765-4a9b-9486-752f59d201b3",
   "metadata": {},
   "outputs": [
    {
     "name": "stdin",
     "output_type": "stream",
     "text": [
      " 4\n"
     ]
    },
    {
     "name": "stdout",
     "output_type": "stream",
     "text": [
      "****\n",
      "****\n",
      "****\n",
      "****\n"
     ]
    }
   ],
   "source": [
    "# Printing perfect square patterns\n",
    "n=int(input())\n",
    "i=0\n",
    "\n",
    "while i<n:\n",
    "    j=0\n",
    "    while j<n:\n",
    "# here problem is that print is default putting enter after printing single star\n",
    "        print(\"*\" , end='') # the print ends with empty string not with enter to the next line, which its default condition\n",
    "        j+=1\n",
    "    print()\n",
    "    i+=1"
   ]
  },
  {
   "cell_type": "code",
   "execution_count": 30,
   "id": "cc8f3d7e-d040-4fc9-ab50-8baca0d0d566",
   "metadata": {},
   "outputs": [
    {
     "name": "stdin",
     "output_type": "stream",
     "text": [
      " 5\n"
     ]
    },
    {
     "name": "stdout",
     "output_type": "stream",
     "text": [
      "11111\n",
      "22222\n",
      "33333\n",
      "44444\n",
      "55555\n"
     ]
    }
   ],
   "source": [
    "# Equal row and coloumn equal to user input \n",
    "# + every coloumn should have same number\n",
    "\n",
    "n=int(input())\n",
    "i=0\n",
    "while i<n:\n",
    "    j=0\n",
    "    while j<n:\n",
    "        print(i+1 , end='')\n",
    "        j+=1\n",
    "    print()\n",
    "    i+=1     "
   ]
  },
  {
   "cell_type": "code",
   "execution_count": 37,
   "id": "bff9fc81-36bc-41c6-8837-f17de0fa4552",
   "metadata": {},
   "outputs": [
    {
     "name": "stdin",
     "output_type": "stream",
     "text": [
      " 4\n"
     ]
    },
    {
     "name": "stdout",
     "output_type": "stream",
     "text": [
      "1234\n",
      "1234\n",
      "1234\n",
      "1234\n"
     ]
    }
   ],
   "source": [
    "#Like above but diff is every coloumn has growing num\n",
    "\n",
    "n=int(input())\n",
    "i=0\n",
    "\n",
    "while i<n:\n",
    "    j=0\n",
    "    count=0\n",
    "    while j<n:\n",
    "        print(count+1,end='')\n",
    "        count+=1\n",
    "        j+=1\n",
    "    print()\n",
    "    i+=1"
   ]
  },
  {
   "cell_type": "code",
   "execution_count": 38,
   "id": "e9d4d18a-2495-4349-b503-f0c3f2bc1019",
   "metadata": {},
   "outputs": [
    {
     "name": "stdin",
     "output_type": "stream",
     "text": [
      " 4\n"
     ]
    },
    {
     "name": "stdout",
     "output_type": "stream",
     "text": [
      "4321\n",
      "4321\n",
      "4321\n",
      "4321\n"
     ]
    }
   ],
   "source": [
    "#Printing above in reverse order\n",
    "n=int(input())\n",
    "i=0\n",
    "\n",
    "while i<n:\n",
    "    j=0\n",
    "    count=n\n",
    "    while j<n:\n",
    "        print(count,end='')\n",
    "        count-=1\n",
    "        j+=1\n",
    "    print()\n",
    "    i+=1"
   ]
  },
  {
   "cell_type": "markdown",
   "id": "081e8778-080e-4027-b334-2752f8bee865",
   "metadata": {},
   "source": [
    "## For-Alphabets"
   ]
  },
  {
   "cell_type": "code",
   "execution_count": 4,
   "id": "24c7ec8f-7d60-469a-9697-2125d5a54b46",
   "metadata": {},
   "outputs": [
    {
     "name": "stdout",
     "output_type": "stream",
     "text": [
      "65\n",
      "66\n",
      "B\n",
      "A\n"
     ]
    }
   ],
   "source": [
    "#Square Alphabet patterns\n",
    "#First getting the ASCII values from ord()-function\n",
    "print(ord('A'))\n",
    "print(ord('B'))\n",
    "\n",
    "#chr()-function gives the corresponding alphabest of the ASCII values\n",
    "print(chr(66))\n",
    "print(chr(65))"
   ]
  },
  {
   "cell_type": "code",
   "execution_count": 8,
   "id": "541aea92-da96-4ba8-9ec5-b354af45ac63",
   "metadata": {},
   "outputs": [
    {
     "name": "stdin",
     "output_type": "stream",
     "text": [
      " 3\n"
     ]
    },
    {
     "name": "stdout",
     "output_type": "stream",
     "text": [
      "ABC\n",
      "ABC\n",
      "ABC\n"
     ]
    }
   ],
   "source": [
    "n=int(input())\n",
    "i=0\n",
    "while i<n:\n",
    "    j=0\n",
    "    a=65\n",
    "    while j<n:\n",
    "        print(chr(a), end=\"\")\n",
    "        a+=1\n",
    "        j+=1\n",
    "    print()\n",
    "    i+=1"
   ]
  },
  {
   "cell_type": "code",
   "execution_count": 2,
   "id": "f22c74e5-29d0-4f1e-aa1a-7835652077bc",
   "metadata": {},
   "outputs": [
    {
     "name": "stdin",
     "output_type": "stream",
     "text": [
      " 3\n"
     ]
    },
    {
     "name": "stdout",
     "output_type": "stream",
     "text": [
      "A\n",
      "AB\n",
      "ABC\n"
     ]
    }
   ],
   "source": [
    "n=int(input())\n",
    "i=0\n",
    "while i<n:\n",
    "    j=0\n",
    "    a=65\n",
    "    # a=a+i\n",
    "    while j<=i:\n",
    "        print(chr(a), end=\"\")\n",
    "        a+=1\n",
    "        j+=1\n",
    "    print()\n",
    "    i+=1"
   ]
  },
  {
   "cell_type": "markdown",
   "id": "f44e67d7-9e0b-4911-82fd-d6d683f4d2a1",
   "metadata": {},
   "source": [
    "# Traingular Patterns"
   ]
  },
  {
   "cell_type": "code",
   "execution_count": 4,
   "id": "5d569148-f711-4fe2-a371-767245677e47",
   "metadata": {},
   "outputs": [
    {
     "name": "stdin",
     "output_type": "stream",
     "text": [
      " 4\n"
     ]
    },
    {
     "name": "stdout",
     "output_type": "stream",
     "text": [
      "*\n",
      "**\n",
      "***\n",
      "****\n"
     ]
    }
   ],
   "source": [
    "# Printing pgrowing traingle patterns\n",
    "n=int(input())\n",
    "i=0\n",
    "\n",
    "while i<n:\n",
    "    j=0\n",
    "    while j<=i:\n",
    "# here problem is that print is default putting enter after printing single star\n",
    "        print(\"*\" , end='') # the print ends with empty string not with enter to the next line, which its default condition\n",
    "        j+=1\n",
    "    print()\n",
    "    i+=1"
   ]
  },
  {
   "cell_type": "code",
   "execution_count": 3,
   "id": "89eee5b5-5d7f-4b03-a4a9-befd940e98aa",
   "metadata": {},
   "outputs": [
    {
     "name": "stdin",
     "output_type": "stream",
     "text": [
      " 4\n"
     ]
    },
    {
     "name": "stdout",
     "output_type": "stream",
     "text": [
      "1\n",
      "12\n",
      "123\n",
      "1234\n"
     ]
    }
   ],
   "source": [
    "# Same as above but printing growing numbers\n",
    "n=int(input())\n",
    "i=0\n",
    "while i<n:\n",
    "    j=0\n",
    "    count=1\n",
    "    while j<=i:\n",
    "        print(count, end='')\n",
    "        count+=1\n",
    "        j+=1\n",
    "    print()\n",
    "    i+=1"
   ]
  },
  {
   "cell_type": "code",
   "execution_count": 1,
   "id": "7d5bab62-3eb2-443f-8c7b-7c8135847c6e",
   "metadata": {},
   "outputs": [
    {
     "name": "stdin",
     "output_type": "stream",
     "text": [
      " 4\n"
     ]
    },
    {
     "name": "stdout",
     "output_type": "stream",
     "text": [
      "1\n",
      "23\n",
      "345\n",
      "4567\n"
     ]
    }
   ],
   "source": [
    "#same as above only every coloum starting with row number and growing\n",
    "n=int(input())\n",
    "i=0\n",
    "while i<n:\n",
    "    j=0\n",
    "    count=i\n",
    "    while j<=i:\n",
    "        print(count+1, end=\"\") \n",
    "        count+=1\n",
    "        j+=1\n",
    "    print()\n",
    "    i+=1"
   ]
  },
  {
   "cell_type": "code",
   "execution_count": 2,
   "id": "603116d4-2a99-457f-80b0-bf38fac625ff",
   "metadata": {},
   "outputs": [
    {
     "name": "stdin",
     "output_type": "stream",
     "text": [
      " 4\n"
     ]
    },
    {
     "name": "stdout",
     "output_type": "stream",
     "text": [
      "1\n",
      "23\n",
      "456\n",
      "78910\n"
     ]
    }
   ],
   "source": [
    "n=int(input())\n",
    "i=0\n",
    "count=1\n",
    "while i<n:\n",
    "    j=0\n",
    "    while j<=i:\n",
    "        print(count, end=\"\") \n",
    "        count+=1\n",
    "        j+=1\n",
    "    print()\n",
    "    i+=1"
   ]
  },
  {
   "cell_type": "code",
   "execution_count": 45,
   "id": "0b44054b-98dc-491c-b36e-5ecb8371dcd8",
   "metadata": {},
   "outputs": [
    {
     "name": "stdin",
     "output_type": "stream",
     "text": [
      " 4\n"
     ]
    },
    {
     "name": "stdout",
     "output_type": "stream",
     "text": [
      "11101\n",
      "1111\n",
      "112\n",
      "13\n"
     ]
    }
   ],
   "source": [
    "n=int(input())\n",
    "i=0\n",
    "left=1\n",
    "right=1\n",
    "\n",
    "while i<n:\n",
    "    j=1\n",
    "    while j<=(2*n-1):\n",
    "        if j==n:\n",
    "            print(i, end=\"\")\n",
    "        if j<=n-i:\n",
    "            print(left, end=\"\")\n",
    "        # if j<n+i:\n",
    "        #     print()\n",
    "        j+=1\n",
    "    print()\n",
    "    i+=1"
   ]
  },
  {
   "cell_type": "markdown",
   "id": "8a2a15ce-fe7e-445f-84ff-1b83892978e3",
   "metadata": {},
   "source": [
    "# Inverted Patterns"
   ]
  },
  {
   "cell_type": "code",
   "execution_count": 27,
   "id": "8a6c379c-8fa4-443f-9561-0c5b19a57dec",
   "metadata": {},
   "outputs": [
    {
     "name": "stdin",
     "output_type": "stream",
     "text": [
      " 4\n"
     ]
    },
    {
     "name": "stdout",
     "output_type": "stream",
     "text": [
      "****\n",
      "***\n",
      "**\n",
      "*\n"
     ]
    }
   ],
   "source": [
    "n=int(input())\n",
    "i=0\n",
    "while i<n:\n",
    "    j=1\n",
    "    while j<=n-i:\n",
    "        print(\"*\", end=\"\")\n",
    "        j+=1\n",
    "    print()\n",
    "    i+=1 \n"
   ]
  },
  {
   "cell_type": "code",
   "execution_count": 29,
   "id": "9cf8b4ea-aa66-49eb-9fa2-5b8da045565c",
   "metadata": {},
   "outputs": [
    {
     "name": "stdin",
     "output_type": "stream",
     "text": [
      " 4\n"
     ]
    },
    {
     "name": "stdout",
     "output_type": "stream",
     "text": [
      "1234\n",
      "123\n",
      "12\n",
      "1\n"
     ]
    }
   ],
   "source": [
    "n=int(input())\n",
    "i=0\n",
    "while i<n:\n",
    "    j=1\n",
    "    m=1\n",
    "    while j<=n-i:\n",
    "        print(m, end=\"\")\n",
    "        m+=1\n",
    "        j+=1\n",
    "    print()\n",
    "    i+=1"
   ]
  }
 ],
 "metadata": {
  "kernelspec": {
   "display_name": "Python 3 (ipykernel)",
   "language": "python",
   "name": "python3"
  },
  "language_info": {
   "codemirror_mode": {
    "name": "ipython",
    "version": 3
   },
   "file_extension": ".py",
   "mimetype": "text/x-python",
   "name": "python",
   "nbconvert_exporter": "python",
   "pygments_lexer": "ipython3",
   "version": "3.10.9"
  }
 },
 "nbformat": 4,
 "nbformat_minor": 5
}
