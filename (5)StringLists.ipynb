{
 "cells": [
  {
   "cell_type": "markdown",
   "id": "888ee690-e67c-4222-987f-a756c41bb9d6",
   "metadata": {},
   "source": [
    "# Strings\n",
    "* Single codes or Double Codes both are applicable\n",
    "* Python doesn't have character-dataType , a character is treated as Single-length-String\n",
    "* Strings are immutable,means their indexs cant be changed separetlely, as changes would be showed in new string var not in old string var means any type of changes n string cant be accepted by the oirginal string, either the changes reflected in the string could be store in another string\n"
   ]
  },
  {
   "cell_type": "code",
   "execution_count": 2,
   "id": "d32ca237-52a1-46d4-80d8-6bc709e4597a",
   "metadata": {},
   "outputs": [
    {
     "data": {
      "text/plain": [
       "'abc def'"
      ]
     },
     "execution_count": 2,
     "metadata": {},
     "output_type": "execute_result"
    }
   ],
   "source": [
    "a=\"abc def\"\n",
    "a"
   ]
  },
  {
   "cell_type": "code",
   "execution_count": 29,
   "id": "b36aba59-1ecd-4f44-90c9-d324fedb1de4",
   "metadata": {},
   "outputs": [
    {
     "name": "stdout",
     "output_type": "stream",
     "text": [
      "<class 'str'>\n",
      "<class 'str'>\n"
     ]
    }
   ],
   "source": [
    "n=\"a\"\n",
    "m=\"Anshuman\"\n",
    "\n",
    "print(type(n))\n",
    "print(type(m))"
   ]
  },
  {
   "cell_type": "code",
   "execution_count": 6,
   "id": "1079daa3-6b24-47b9-b8e7-3baeadd4a78e",
   "metadata": {},
   "outputs": [
    {
     "name": "stdout",
     "output_type": "stream",
     "text": [
      "A\n",
      "h\n"
     ]
    }
   ],
   "source": [
    "print(m[0])\n",
    "print(m[3])\n"
   ]
  },
  {
   "cell_type": "code",
   "execution_count": 30,
   "id": "4e5f01ce-dad3-4828-a5ce-5230efdb629e",
   "metadata": {},
   "outputs": [
    {
     "name": "stdout",
     "output_type": "stream",
     "text": [
      "Anshuman"
     ]
    }
   ],
   "source": [
    "for i in m: # Here by-default i gets to 0th index of m-string\n",
    "    print(i,end=\"\")"
   ]
  },
  {
   "cell_type": "code",
   "execution_count": 31,
   "id": "958a3cd2-1f5c-4bef-b7c8-277a985a9e80",
   "metadata": {},
   "outputs": [
    {
     "name": "stdout",
     "output_type": "stream",
     "text": [
      "Anshuman"
     ]
    }
   ],
   "source": [
    "# length-len(arr/string) gives the length\n",
    "n=len(m)\n",
    "for i in range(0,n,1): #[0,7] and lenth is 8\n",
    "    print(m[i],end=\"\")"
   ]
  },
  {
   "cell_type": "code",
   "execution_count": 32,
   "id": "1fe29dd5-0c5e-425c-9b5f-4a7ef03b603b",
   "metadata": {},
   "outputs": [],
   "source": [
    "m[3]='A' # Here string's part cant be changed, if u wanted to change should have to change the whole string"
   ]
  },
  {
   "cell_type": "code",
   "execution_count": 22,
   "id": "d11c20a1-aac3-4a1f-8c9a-1c501da5e619",
   "metadata": {},
   "outputs": [
    {
     "name": "stdout",
     "output_type": "stream",
     "text": [
      "This is Anshuman's pen \n",
      ",Anshuman's pen\n"
     ]
    },
    {
     "data": {
      "text/plain": [
       "True"
      ]
     },
     "execution_count": 22,
     "metadata": {},
     "output_type": "execute_result"
    }
   ],
   "source": [
    "a=\"This is Anshuman's pen \"\n",
    "b=',Anshuman\\'s pen' #To avoid confusion between single-string and appostofice's, better to give symbol-\\\n",
    "print(a)\n",
    "print(b)\n",
    "a>b"
   ]
  },
  {
   "cell_type": "code",
   "execution_count": 17,
   "id": "11895f0a-9ad7-4a2f-bd76-a8faba3877e9",
   "metadata": {},
   "outputs": [
    {
     "data": {
      "text/plain": [
       "\"This is Anshuman's pen ,Anshuman's pen,Anshuman's pen,Anshuman's pen\""
      ]
     },
     "execution_count": 17,
     "metadata": {},
     "output_type": "execute_result"
    }
   ],
   "source": [
    "a=a+b #concantation of string\n",
    "a # As i said before,we changed the whole string-variable in respect to change the string"
   ]
  },
  {
   "cell_type": "markdown",
   "id": "82a119b9-6888-464e-a04f-124b1f7d8650",
   "metadata": {},
   "source": [
    "# .Split()"
   ]
  },
  {
   "cell_type": "code",
   "execution_count": 30,
   "id": "5666f41b-4c90-436e-a141-e9101f3f00d8",
   "metadata": {},
   "outputs": [
    {
     "name": "stdout",
     "output_type": "stream",
     "text": [
      "['My', 'name', ',is', 'Anshuman']\n",
      "['My name ', 'is Anshuman']\n",
      "['My ', ' ,is Anshuman']\n"
     ]
    }
   ],
   "source": [
    "a='My name ,is Anshuman'\n",
    "print(a.split()) #it will split the string on the basis of space\n",
    "print(a.split(\",\")) #It now split on the basis of 'comma' and remove \"comma\"\n",
    "print(a.split(\"name\")) #It will splt on the basis of name and remove \"name\""
   ]
  },
  {
   "cell_type": "markdown",
   "id": "e0910621-3821-41c3-a342-b0fa289f89ed",
   "metadata": {},
   "source": [
    "# .Replace(n,m)"
   ]
  },
  {
   "cell_type": "code",
   "execution_count": 80,
   "id": "11e42342-b23e-444f-9c3b-c227bce5d795",
   "metadata": {},
   "outputs": [
    {
     "name": "stdout",
     "output_type": "stream",
     "text": [
      "This is slicing\n",
      "Thare are slicing\n"
     ]
    }
   ],
   "source": [
    "m=\"This is slicing\"\n",
    "ans=m.replace(\"is\",\"are\") #Would relpace is by are, vurtually not really in a but you are store the virtual-part\n",
    "print(m)\n",
    "print(ans)"
   ]
  },
  {
   "cell_type": "markdown",
   "id": "fec5963a-9389-47fd-81b1-60e37d080090",
   "metadata": {},
   "source": [
    "# .find(n)"
   ]
  },
  {
   "cell_type": "code",
   "execution_count": 34,
   "id": "f3509b74-b86f-445b-b9e8-62de7488ee85",
   "metadata": {},
   "outputs": [
    {
     "data": {
      "text/plain": [
       "9"
      ]
     },
     "execution_count": 34,
     "metadata": {},
     "output_type": "execute_result"
    }
   ],
   "source": [
    "a.find(\"is\") # would find is in the statement"
   ]
  },
  {
   "cell_type": "markdown",
   "id": "23d6d890-ed80-4f18-80a8-eca66330f6c8",
   "metadata": {},
   "source": [
    "# .lower() "
   ]
  },
  {
   "cell_type": "code",
   "execution_count": 36,
   "id": "ca7ac6b2-5d84-4062-91e5-6a5c60d0cf0d",
   "metadata": {},
   "outputs": [
    {
     "data": {
      "text/plain": [
       "'my name ,is anshuman'"
      ]
     },
     "execution_count": 36,
     "metadata": {},
     "output_type": "execute_result"
    }
   ],
   "source": [
    "a.lower() #Would lower the string\n",
    "#It would return object, doesnot make changes in original string"
   ]
  },
  {
   "cell_type": "markdown",
   "id": "fd449b40-ea56-4679-aeb6-052b011b25a6",
   "metadata": {},
   "source": [
    "# .upper()"
   ]
  },
  {
   "cell_type": "code",
   "execution_count": 52,
   "id": "1cb54e97-0e3f-4580-a14c-3df95ec03e0d",
   "metadata": {},
   "outputs": [
    {
     "data": {
      "text/plain": [
       "'My name is Anshuman'"
      ]
     },
     "execution_count": 52,
     "metadata": {},
     "output_type": "execute_result"
    }
   ],
   "source": [
    "a.upper() # would upper the string\n",
    "#It would return the object and doesnot make changes in the original string"
   ]
  },
  {
   "cell_type": "markdown",
   "id": "92b066d1-9542-4cd1-b5f5-d31d3c31b4cb",
   "metadata": {},
   "source": [
    "# .islower()\n",
    "# .isupper()"
   ]
  },
  {
   "cell_type": "code",
   "execution_count": 40,
   "id": "a0712c59-193d-472c-b86a-4f8ade0ee486",
   "metadata": {},
   "outputs": [
    {
     "name": "stdout",
     "output_type": "stream",
     "text": [
      "False\n",
      "False\n"
     ]
    }
   ],
   "source": [
    "print(a.islower()) #Checks whether lower or not\n",
    "print(a.isupper()) # checks wheter upper or not"
   ]
  },
  {
   "cell_type": "markdown",
   "id": "8b2bb901-6c03-4c95-a897-d07d573a991b",
   "metadata": {},
   "source": [
    "# .isalpha()"
   ]
  },
  {
   "cell_type": "code",
   "execution_count": 46,
   "id": "76ef5e73-428d-49fc-a89b-fbf0fea4178a",
   "metadata": {},
   "outputs": [],
   "source": [
    "a.isaplha() # tells whether the string contains oonly alphabets or not\n",
    "           #if there is any spce between then , it would still give false, as it only wanted alphabets"
   ]
  },
  {
   "cell_type": "markdown",
   "id": "57b1162d-2cfc-4820-a96e-583d850d03ab",
   "metadata": {},
   "source": [
    "# .startswith(n)\n",
    "# .endswith(n)"
   ]
  },
  {
   "cell_type": "code",
   "execution_count": 50,
   "id": "462a36d5-b2d1-4c70-9843-7783fd315e81",
   "metadata": {},
   "outputs": [
    {
     "name": "stdout",
     "output_type": "stream",
     "text": [
      "False\n",
      "True\n"
     ]
    }
   ],
   "source": [
    "a=\"My name is Anshuman\"\n",
    "print(a.startswith(\"is\")) #Whether it starts with \"is\" or not\n",
    "print(a.endswith(\"n\")) # WHther it ends with \"n\" or not"
   ]
  },
  {
   "cell_type": "markdown",
   "id": "a66c02e1-f6f1-40f0-82a7-10d804aec8b7",
   "metadata": {},
   "source": [
    "# string-slicing"
   ]
  },
  {
   "cell_type": "code",
   "execution_count": 67,
   "id": "cea9a96e-5a29-4143-b0ab-31f6c2d6a026",
   "metadata": {},
   "outputs": [
    {
     "name": "stdout",
     "output_type": "stream",
     "text": [
      "is \n",
      "is sl\n",
      "is is slicing\n",
      "this is\n",
      "this is slicing\n",
      "i ss\n"
     ]
    }
   ],
   "source": [
    "a=\"this is slicing\"\n",
    "print(a[2:5]) # Would give the 2,3,4 index only not the 5th one\n",
    "print(a[5:10]) # Would give only 5th index to 9th index , not included 10th index\n",
    "print(a[2:]) #if no  end written in this, by-default assumed as ending of ht string\n",
    "print(a[:7]) #if no starting , by-default starting of the string considered\n",
    "print(a[:]) # hence no starting and ending given, by-default takes from start and end\n",
    "print(a[2:10:2])\n",
    "#First 2 are starting and ending, in which  it would stop at end-1\n",
    "#But the third one is no.-skip, as before it was by-default-1, but here is 2\n",
    "#This means skip by 2"
   ]
  },
  {
   "cell_type": "code",
   "execution_count": 70,
   "id": "cf2cebf5-4c2f-4e61-aded-b66819a6c124",
   "metadata": {},
   "outputs": [
    {
     "name": "stdout",
     "output_type": "stream",
     "text": [
      "ils si s\n"
     ]
    }
   ],
   "source": [
    "print(a[10:2:-1]) # Would go reverse from 10th index to end-1=3ed index"
   ]
  },
  {
   "cell_type": "code",
   "execution_count": 81,
   "id": "0ee12e99-3921-430c-9858-7b9786439455",
   "metadata": {},
   "outputs": [
    {
     "name": "stdin",
     "output_type": "stream",
     "text": [
      " Anshumanx\n"
     ]
    },
    {
     "name": "stdout",
     "output_type": "stream",
     "text": [
      "8\n",
      "Anshumany\n"
     ]
    }
   ],
   "source": [
    "#take input from user and replace x by y\n",
    "s=input()\n",
    "a=\"x\"\n",
    "b=\"y\"\n",
    "p=s.find(\"x\") # if x is not find by-default va;ue would be (-1)\n",
    "print(p)\n",
    "if(p!=-1):\n",
    "    ans=s.replace(a,b)\n",
    "print(ans)"
   ]
  },
  {
   "cell_type": "markdown",
   "id": "fd1f8f81-ba52-4195-b375-9e6ca3da8cf1",
   "metadata": {},
   "source": [
    "# List-Array\n",
    "## While defining an array/list-\n",
    "* We donot define the length of the list and type of the list\n",
    "* It can have hetrogenous data-type\n",
    "* A list can be a part of another list\n",
    "* A list by default made any constant size can be \"k\" and if you want to extent its size, you extent it, it only extends them by creating the new list of the new size and copy the old-list items save them into new list\n",
    "* Concatation of list can only done with another list,means anytype of changes is accepted by the list\n",
    "* del list[indexNum]: Would delte that respective index from the list"
   ]
  },
  {
   "cell_type": "code",
   "execution_count": 104,
   "id": "827f12df-ce99-46ca-80cb-a6a9552e5961",
   "metadata": {},
   "outputs": [
    {
     "name": "stdout",
     "output_type": "stream",
     "text": [
      "<class 'list'>\n"
     ]
    },
    {
     "data": {
      "text/plain": [
       "3"
      ]
     },
     "execution_count": 104,
     "metadata": {},
     "output_type": "execute_result"
    }
   ],
   "source": [
    "a=[] #Define the list: No size and No type\n",
    "print(type(a))\n",
    "a=[1,2,3] #defining list\n",
    "a[2] #accessing list in index-2"
   ]
  },
  {
   "cell_type": "code",
   "execution_count": 96,
   "id": "7cdc2aff-b5df-491c-a0b0-54c27293863a",
   "metadata": {},
   "outputs": [
    {
     "name": "stdout",
     "output_type": "stream",
     "text": [
      "[1, 2, 3]\n",
      "list[23, 34, 45]\n",
      "<class 'list'>\n",
      "<class 'types.GenericAlias'>\n"
     ]
    }
   ],
   "source": [
    "a=[1,2,3] #Preffered method for intilisation of list\n",
    "b=list[23,34,45] # ANother method for intilisation of list\n",
    "print(a)\n",
    "print(b)\n",
    "print(type(a))\n",
    "print(type(b))"
   ]
  },
  {
   "cell_type": "code",
   "execution_count": 111,
   "id": "951917df-a731-4ec6-84b3-034988ced04c",
   "metadata": {},
   "outputs": [
    {
     "data": {
      "text/plain": [
       "[1, 54, 32]"
      ]
     },
     "execution_count": 111,
     "metadata": {},
     "output_type": "execute_result"
    }
   ],
   "source": [
    "a=[[1,54,32],1,2,34,\"abc\",3.67,True] #It is also a list\n",
    "a[0]"
   ]
  },
  {
   "cell_type": "markdown",
   "id": "6b7ac317-2cdb-42aa-9b03-9d733be36aa0",
   "metadata": {},
   "source": [
    "### New formate of intilising&Defining list"
   ]
  },
  {
   "cell_type": "code",
   "execution_count": 121,
   "id": "4d036fb9-6882-461d-908f-0fe04a165336",
   "metadata": {},
   "outputs": [
    {
     "name": "stdout",
     "output_type": "stream",
     "text": [
      "[0, 0, 0, 0, 0, 0, 0, 0, 0, 0]\n",
      "[0, 1, 2, 3, 4, 5, 6, 7, 8, 9]\n",
      "[0, 1, 4, 9, 16, 25, 36, 49, 64, 81]\n"
     ]
    }
   ],
   "source": [
    "b=[0 for i in range(10)] # It would print 0 in range of 10 in a list\n",
    "print(b)                 #range(10)=range(0,10,1)\n",
    "c=[i for i in range(10)]\n",
    "print(c)\n",
    "d=[i*i for i in range(10)]\n",
    "print(d)"
   ]
  },
  {
   "cell_type": "code",
   "execution_count": 122,
   "id": "e599cc6e-49dd-4693-9b07-6c6790f549b7",
   "metadata": {},
   "outputs": [
    {
     "data": {
      "text/plain": [
       "3"
      ]
     },
     "execution_count": 122,
     "metadata": {},
     "output_type": "execute_result"
    }
   ],
   "source": [
    "a=[1,2,3]\n",
    "len(a)"
   ]
  },
  {
   "cell_type": "code",
   "execution_count": 7,
   "id": "3c494d93-484d-4444-adaa-b2f435d59b24",
   "metadata": {},
   "outputs": [
    {
     "data": {
      "text/plain": [
       "[1, 2, 43, 4, 1, 5, 3, 2, 23, 34, 45, 23, 34, 45]"
      ]
     },
     "execution_count": 16,
     "metadata": {},
     "output_type": "execute_result"
    }
   ],
   "source": [
    "b=[23,34,45]\n",
    "c=a+b #Concantation among list only\n",
    "print(c) \n",
    "print(a+b)\n",
    "c*3 # It will copy c-3times and c has still its original value"
   ]
  },
  {
   "cell_type": "markdown",
   "id": "530e9fb9-5aad-4a02-842a-7549219f5fef",
   "metadata": {},
   "source": [
    "# List-Functions\n",
    "* list.append(n): To add-n at the end of the list\n",
    "* list.insert(index,n): To add n at specific-index of the list\n",
    "* list.extend(n): Means list will add the iteams of b-list at its end- This is difference from a+b that in this a+b-> a new list is created and in extend-> inside only a , b is added\n",
    "* list.remove(n) : Will remove the first occurence of \"n\" in the list\n",
    "* list.pop(n); remove the nth index data from the list and returns the value"
   ]
  },
  {
   "cell_type": "code",
   "execution_count": 18,
   "id": "a21d019e-9a78-4ca7-bafe-2b6682f533f9",
   "metadata": {},
   "outputs": [
    {
     "name": "stdout",
     "output_type": "stream",
     "text": [
      "[1, 2, 3, 4, 6]\n",
      "[1, 2, 10, 3, 4, 6]\n",
      "[1, 2, 10, 3, 4, 6, 87, 54, 32]\n",
      "[1, 2, 3, 4, 6, 87, 54, 32]\n",
      "None\n",
      "[2, 3, 4, 6, 87, 54, 32]\n",
      "1\n",
      "[2, 3, 4, 6, 54, 32]\n"
     ]
    }
   ],
   "source": [
    "# Append()\n",
    "a=[1,2,3,4]\n",
    "a.append(6)\n",
    "print(a)\n",
    "\n",
    "#insert()\n",
    "a.insert(2,10)\n",
    "print(a)\n",
    "\n",
    "b=[87,54,32]\n",
    "#extend()\n",
    "a.extend(b)\n",
    "print(a)\n",
    "\n",
    "#remove()\n",
    "e=a.remove(10) # will not return the value\n",
    "print(a)\n",
    "print(e)\n",
    "\n",
    "#pop()\n",
    "d=a.pop(0)\n",
    "print(a)\n",
    "print(d)\n",
    "\n",
    "#del\n",
    "del a[4]\n",
    "print(a)"
   ]
  },
  {
   "cell_type": "markdown",
   "id": "a2dd4ed8-5f4e-439d-a00c-cba47c544d68",
   "metadata": {},
   "source": [
    "# List-functions"
   ]
  },
  {
   "cell_type": "code",
   "execution_count": 20,
   "id": "8c9a7e59-813b-48f2-b1d9-bca0daf6670f",
   "metadata": {},
   "outputs": [
    {
     "data": {
      "text/plain": [
       "[2, 3, 4, 6, 32, 54]"
      ]
     },
     "execution_count": 20,
     "metadata": {},
     "output_type": "execute_result"
    }
   ],
   "source": [
    "a.sort() #Will sort() the list\n",
    "a"
   ]
  },
  {
   "cell_type": "code",
   "execution_count": 24,
   "id": "6189148a-653a-4494-9b29-222eecf8f150",
   "metadata": {},
   "outputs": [
    {
     "data": {
      "text/plain": [
       "54"
      ]
     },
     "execution_count": 24,
     "metadata": {},
     "output_type": "execute_result"
    }
   ],
   "source": [
    "max(a) # will give max-valued element from the list\n",
    "      #But it wonot work in hetrogenous array"
   ]
  },
  {
   "cell_type": "code",
   "execution_count": 27,
   "id": "a8eeb299-4224-4e0a-90c2-0b734e735f84",
   "metadata": {},
   "outputs": [
    {
     "data": {
      "text/plain": [
       "4"
      ]
     },
     "execution_count": 27,
     "metadata": {},
     "output_type": "execute_result"
    }
   ],
   "source": [
    "a.index(32) #Will give the index value of the given elemnt inside the array"
   ]
  },
  {
   "cell_type": "code",
   "execution_count": 31,
   "id": "b4fb7a38-58a8-42b2-a3ac-2f116755ea64",
   "metadata": {},
   "outputs": [
    {
     "name": "stdout",
     "output_type": "stream",
     "text": [
      "True\n"
     ]
    },
    {
     "data": {
      "text/plain": [
       "False"
      ]
     },
     "execution_count": 31,
     "metadata": {},
     "output_type": "execute_result"
    }
   ],
   "source": [
    "#Checks whether the given element is inside the list or not\n",
    "print(32 in a)\n",
    "100 in a\n"
   ]
  },
  {
   "cell_type": "code",
   "execution_count": 35,
   "id": "9e8ecc49-e507-43b3-bd44-99d5618c2d67",
   "metadata": {},
   "outputs": [
    {
     "name": "stdout",
     "output_type": "stream",
     "text": [
      "[2, 4, 6, 7, 9]\n",
      "2\n",
      "4\n",
      "6\n",
      "7\n",
      "9\n"
     ]
    }
   ],
   "source": [
    "a=[2,4,6,7,9]\n",
    "print(a)\n",
    "for i in a:\n",
    "    print(i)"
   ]
  },
  {
   "cell_type": "code",
   "execution_count": 17,
   "id": "a8c37083-0f11-46af-9bcc-7110175f3c5a",
   "metadata": {},
   "outputs": [
    {
     "name": "stdout",
     "output_type": "stream",
     "text": [
      "[1, 2, 3, 4]\n",
      "[1, 2, 43, 4]\n",
      "[1, 2, 43, 4]\n"
     ]
    }
   ],
   "source": [
    "a=[1,2,3,4]\n",
    "print(a)\n",
    "a[2]=43\n",
    "print(a)\n",
    "b=[1,5,3,2]\n",
    "a+b\n",
    "print(a)\n"
   ]
  },
  {
   "cell_type": "code",
   "execution_count": 33,
   "id": "49344f79-7feb-4b25-acaf-883f47fb02ce",
   "metadata": {},
   "outputs": [
    {
     "name": "stdout",
     "output_type": "stream",
     "text": [
      "a[2] s\n",
      "b[2] 3\n",
      "Old b: [1, 2, 3, 4]\n",
      "New b: [1, 2, 56, 4]\n"
     ]
    }
   ],
   "source": [
    "#String donot support alteration in it, rather the alteration stored in other string\n",
    "a=\"Anshuman\"\n",
    "print(\"a[2]\",a[2])\n",
    "# a[2]=\"ans\" #TypeError: 'str' object does not support item assignment\n",
    "\n",
    "#List support alteration in it\n",
    "b=[1,2,3,4]\n",
    "print(\"b[2]\",b[2])\n",
    "print(\"Old b:\",b)\n",
    "b[2]=56\n",
    "print(\"New b:\",b)"
   ]
  }
 ],
 "metadata": {
  "kernelspec": {
   "display_name": "Python 3 (ipykernel)",
   "language": "python",
   "name": "python3"
  },
  "language_info": {
   "codemirror_mode": {
    "name": "ipython",
    "version": 3
   },
   "file_extension": ".py",
   "mimetype": "text/x-python",
   "name": "python",
   "nbconvert_exporter": "python",
   "pygments_lexer": "ipython3",
   "version": "3.10.9"
  }
 },
 "nbformat": 4,
 "nbformat_minor": 5
}
