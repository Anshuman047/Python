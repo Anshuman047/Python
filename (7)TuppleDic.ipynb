{
 "cells": [
  {
   "cell_type": "markdown",
   "id": "91aa1f6e-2165-4893-9cba-8d61f9cc976c",
   "metadata": {},
   "source": [
    "# Tupple\n",
    "* Indexing and Slicing works here\n",
    "* It also can be hetrogenous\n",
    "* It is different from the list because it is immutable like string as in list update,add,remove can be done but with tupple it cannot be done as well as with string"
   ]
  },
  {
   "cell_type": "code",
   "execution_count": 147,
   "id": "3e057d7d-b219-4d3e-903d-6e08422d27b6",
   "metadata": {},
   "outputs": [
    {
     "name": "stdout",
     "output_type": "stream",
     "text": [
      "1\n",
      "2\n",
      "(1, 2, 3)\n",
      "<class 'tuple'>\n"
     ]
    }
   ],
   "source": [
    "c,d=1,2 #normal defining varuable 2 at same time\n",
    "print(c)\n",
    "print(d)\n",
    "\n",
    "e=1,2,3 #But (2 or more than 2)-numbers assing to same var is called Tupple\n",
    "print(e)\n",
    "print(type(e))\n"
   ]
  },
  {
   "cell_type": "code",
   "execution_count": 148,
   "id": "aa8e6e68-b85d-4653-882f-3ee60236bd68",
   "metadata": {},
   "outputs": [
    {
     "name": "stdout",
     "output_type": "stream",
     "text": [
      "<class 'tuple'>\n",
      "34\n",
      "78\n",
      "78\n",
      "12\n",
      "23\n",
      "34\n"
     ]
    }
   ],
   "source": [
    "#Tupple-List:\n",
    "e=34,23,12,78\n",
    "print(type(e))\n",
    "print(e[0]) #Item aceesed just like a list/array\n",
    "print(e[3])\n",
    "#Speciality of tupple come here:\n",
    "#Last index of the tupple starts from the -1 and decreases by one as goes to start\n",
    "print(e[-1])\n",
    "print(e[-2])\n",
    "print(e[-3])\n",
    "print(e[-4])"
   ]
  },
  {
   "cell_type": "code",
   "execution_count": 149,
   "id": "b8f7ed1f-72d9-498d-b97b-85bbe591f2d4",
   "metadata": {},
   "outputs": [
    {
     "name": "stdout",
     "output_type": "stream",
     "text": [
      "('Anshuman', 'Sahoo')\n",
      "<class 'tuple'>\n",
      "a[0]: Anshuman\n",
      "Sahoo\n"
     ]
    }
   ],
   "source": [
    "#Tupple-String:\n",
    "a=\"Anshuman\",\"Sahoo\"\n",
    "print(a)\n",
    "print(type(a))\n",
    "print(\"a[0]:\",a[0])\n",
    "print(a[-1])"
   ]
  },
  {
   "cell_type": "code",
   "execution_count": 150,
   "id": "2ca87f94-63bb-4808-bbc0-2e9692dde380",
   "metadata": {},
   "outputs": [
    {
     "data": {
      "text/plain": [
       "(4, 5)"
      ]
     },
     "execution_count": 150,
     "metadata": {},
     "output_type": "execute_result"
    }
   ],
   "source": [
    "f=(1,2,3,4,5)\n",
    "f[3:] #Slicing"
   ]
  },
  {
   "cell_type": "code",
   "execution_count": 151,
   "id": "f54f3f4c-0ec3-41ce-9606-bf778cb385b1",
   "metadata": {},
   "outputs": [
    {
     "data": {
      "text/plain": [
       "5"
      ]
     },
     "execution_count": 151,
     "metadata": {},
     "output_type": "execute_result"
    }
   ],
   "source": [
    "len(f)"
   ]
  },
  {
   "cell_type": "code",
   "execution_count": 152,
   "id": "aa579a80-fe9f-4f28-9eb0-0a3524105b8d",
   "metadata": {},
   "outputs": [
    {
     "ename": "TypeError",
     "evalue": "'tuple' object does not support item assignment",
     "output_type": "error",
     "traceback": [
      "\u001b[1;31m---------------------------------------------------------------------------\u001b[0m",
      "\u001b[1;31mTypeError\u001b[0m                                 Traceback (most recent call last)",
      "Cell \u001b[1;32mIn[152], line 1\u001b[0m\n\u001b[1;32m----> 1\u001b[0m f[\u001b[38;5;241m4\u001b[39m]\u001b[38;5;241m=\u001b[39m\u001b[38;5;241m34\u001b[39m \u001b[38;5;66;03m#it cant be done\u001b[39;00m\n\u001b[0;32m      2\u001b[0m \u001b[38;5;28;01mdel\u001b[39;00m f[\u001b[38;5;241m4\u001b[39m]\n",
      "\u001b[1;31mTypeError\u001b[0m: 'tuple' object does not support item assignment"
     ]
    }
   ],
   "source": [
    "f[4]=34 #it cant be done\n",
    "del f[4] #it cant be done"
   ]
  },
  {
   "cell_type": "markdown",
   "id": "f76e3d05-bb15-47be-8570-c1a0a7578a0a",
   "metadata": {},
   "source": [
    "# Tupple-operation\n"
   ]
  },
  {
   "cell_type": "code",
   "execution_count": 153,
   "id": "e7a295a4-8c91-4dd4-a8e7-ec8a4b40b9d4",
   "metadata": {},
   "outputs": [
    {
     "name": "stdout",
     "output_type": "stream",
     "text": [
      "1\n",
      "2\n",
      "3\n",
      "4\n",
      "5\n",
      "0\n",
      "1\n",
      "2\n",
      "3\n",
      "4\n"
     ]
    }
   ],
   "source": [
    "# for loops\n",
    "for i in f:\n",
    "    print(i)\n",
    "#while loop\n",
    "i=0\n",
    "while i<len(f):\n",
    "    print(i)\n",
    "    i+=1"
   ]
  },
  {
   "cell_type": "code",
   "execution_count": 154,
   "id": "85a5014f-a553-4625-b38e-4fa801960814",
   "metadata": {},
   "outputs": [
    {
     "name": "stdout",
     "output_type": "stream",
     "text": [
      "True\n",
      "True\n",
      "False\n"
     ]
    }
   ],
   "source": [
    "# Checks whther items are in tupple or not\n",
    "print(1 in f)\n",
    "print(3 in f)\n",
    "print(10 in f)"
   ]
  },
  {
   "cell_type": "code",
   "execution_count": 155,
   "id": "69f9658e-0d80-41d7-950f-87b164922e92",
   "metadata": {},
   "outputs": [
    {
     "name": "stdout",
     "output_type": "stream",
     "text": [
      "(1.1, 2, 3, 4, 5, 9, 8, 7, 6, 0)\n"
     ]
    },
    {
     "data": {
      "text/plain": [
       "((1.1, 2, 3, 4, 5), (9, 8, 7, 6, 0))"
      ]
     },
     "execution_count": 155,
     "metadata": {},
     "output_type": "execute_result"
    }
   ],
   "source": [
    "# Concatenation can happen store in another new tupple\n",
    "a=(1.1,2,3,4,5)\n",
    "b=(9,8,7,6,0)\n",
    "c=a+b\n",
    "print(c)\n",
    "#Tupple can have more than one tupple inside it as an items\n",
    "d=(a,b)\n",
    "d"
   ]
  },
  {
   "cell_type": "code",
   "execution_count": 156,
   "id": "d64ea958-130a-4892-8f0a-b64c42c82978",
   "metadata": {},
   "outputs": [
    {
     "name": "stdout",
     "output_type": "stream",
     "text": [
      "<class 'tuple'>\n",
      "<class 'tuple'>\n",
      "(1, 2, 4, 5)\n",
      "<class 'tuple'>\n"
     ]
    }
   ],
   "source": [
    "a=1,2\n",
    "b=(4,5)\n",
    "print(type(a))\n",
    "print(type(b))\n",
    "d=a+b\n",
    "print(d)\n",
    "print(type(d))"
   ]
  },
  {
   "cell_type": "code",
   "execution_count": 157,
   "id": "e74dcad0-bc6a-4af4-a246-c74c81475802",
   "metadata": {},
   "outputs": [
    {
     "data": {
      "text/plain": [
       "(1, 2, 1, 2, 1, 2, 1, 2)"
      ]
     },
     "execution_count": 157,
     "metadata": {},
     "output_type": "execute_result"
    }
   ],
   "source": [
    "#creating a new tupple by reapting the item tupple\n",
    "e=a*4\n",
    "e"
   ]
  },
  {
   "cell_type": "code",
   "execution_count": 158,
   "id": "de62bd83-6af6-4746-a6ee-7cd39e357502",
   "metadata": {},
   "outputs": [
    {
     "name": "stdout",
     "output_type": "stream",
     "text": [
      "1\n",
      "2\n"
     ]
    }
   ],
   "source": [
    "print(min(a)) #Gives minimum value of the tupple\n",
    "print(max(a)) #Gives max value of the tupple"
   ]
  },
  {
   "cell_type": "code",
   "execution_count": 159,
   "id": "7251af1d-e17a-4a50-8b3a-94a743e49a5a",
   "metadata": {},
   "outputs": [
    {
     "ename": "TypeError",
     "evalue": "'>' not supported between instances of 'str' and 'int'",
     "output_type": "error",
     "traceback": [
      "\u001b[1;31m---------------------------------------------------------------------------\u001b[0m",
      "\u001b[1;31mTypeError\u001b[0m                                 Traceback (most recent call last)",
      "Cell \u001b[1;32mIn[159], line 4\u001b[0m\n\u001b[0;32m      1\u001b[0m \u001b[38;5;66;03m#Hetrogenous tupple : Here max& min does not work as comparison takes place for max and min , as here there is no same category items\u001b[39;00m\n\u001b[0;32m      2\u001b[0m \u001b[38;5;66;03m#only float and integer are comparable\u001b[39;00m\n\u001b[0;32m      3\u001b[0m a2\u001b[38;5;241m=\u001b[39m(\u001b[38;5;241m1\u001b[39m,\u001b[38;5;241m2\u001b[39m,\u001b[38;5;124m\"\u001b[39m\u001b[38;5;124ms\u001b[39m\u001b[38;5;124m\"\u001b[39m,(\u001b[38;5;241m1\u001b[39m,\u001b[38;5;241m2\u001b[39m))\n\u001b[1;32m----> 4\u001b[0m \u001b[38;5;28;43mmax\u001b[39;49m\u001b[43m(\u001b[49m\u001b[43ma2\u001b[49m\u001b[43m)\u001b[49m \u001b[38;5;66;03m# TypeError: '>' not supported between instances of 'str' and 'int'\u001b[39;00m\n\u001b[0;32m      5\u001b[0m \u001b[38;5;28mmin\u001b[39m(a2)\n",
      "\u001b[1;31mTypeError\u001b[0m: '>' not supported between instances of 'str' and 'int'"
     ]
    }
   ],
   "source": [
    "#Hetrogenous tupple : Here max& min does not work as comparison takes place for max and min , as here there is no same category items\n",
    "#only float and integer are comparable\n",
    "a2=(1,2,\"s\",(1,2))\n",
    "max(a2) # TypeError: '>' not supported between instances of 'str' and 'int'\n",
    "min(a2) # TypeError: '>' not supported between instances of 'str' and 'int'"
   ]
  },
  {
   "cell_type": "markdown",
   "id": "662e2fda-0bc9-41a2-9977-a929cb092986",
   "metadata": {},
   "source": [
    "### Tuple creation from List"
   ]
  },
  {
   "cell_type": "code",
   "execution_count": 160,
   "id": "08a2577b-433f-4e5e-b65a-879e4e27f24c",
   "metadata": {},
   "outputs": [
    {
     "data": {
      "text/plain": [
       "(1, 2, 3, 4, 5.5)"
      ]
     },
     "execution_count": 160,
     "metadata": {},
     "output_type": "execute_result"
    }
   ],
   "source": [
    "#List to tupple\n",
    "\n",
    "l=[1,2,3,4,5.5] #list\n",
    "tuple(l) #tuple"
   ]
  },
  {
   "cell_type": "markdown",
   "id": "5cf9da08-51bc-44e1-a47f-347cb89fdadb",
   "metadata": {},
   "source": [
    "# Variable length Input and Output (major advantage using tuple)\n",
    "* Our aim is to pass as many as (variable) arguments and get that (variable) outputd"
   ]
  },
  {
   "cell_type": "code",
   "execution_count": 161,
   "id": "9e7ac39b-d079-463f-a7cb-e80305013784",
   "metadata": {},
   "outputs": [
    {
     "ename": "TypeError",
     "evalue": "sum() takes 2 positional arguments but 4 were given",
     "output_type": "error",
     "traceback": [
      "\u001b[1;31m---------------------------------------------------------------------------\u001b[0m",
      "\u001b[1;31mTypeError\u001b[0m                                 Traceback (most recent call last)",
      "Cell \u001b[1;32mIn[161], line 5\u001b[0m\n\u001b[0;32m      3\u001b[0m     \u001b[38;5;28;01mreturn\u001b[39;00m a\u001b[38;5;241m+\u001b[39mb\n\u001b[0;32m      4\u001b[0m \u001b[38;5;28msum\u001b[39m(\u001b[38;5;241m9\u001b[39m,\u001b[38;5;241m3\u001b[39m)\n\u001b[1;32m----> 5\u001b[0m \u001b[38;5;28;43msum\u001b[39;49m\u001b[43m(\u001b[49m\u001b[38;5;241;43m9\u001b[39;49m\u001b[43m,\u001b[49m\u001b[38;5;241;43m3\u001b[39;49m\u001b[43m,\u001b[49m\u001b[38;5;241;43m4\u001b[39;49m\u001b[43m,\u001b[49m\u001b[38;5;241;43m5\u001b[39;49m\u001b[43m)\u001b[49m\n",
      "\u001b[1;31mTypeError\u001b[0m: sum() takes 2 positional arguments but 4 were given"
     ]
    }
   ],
   "source": [
    "# Like here predeclared argument is there\n",
    "def sum(a,b):\n",
    "    return a+b\n",
    "sum(9,3)\n",
    "sum(9,3,4,5) #Will not work :TypeError: sum() takes 2 positional arguments but 4 were given"
   ]
  },
  {
   "cell_type": "code",
   "execution_count": 162,
   "id": "bd363f95-b05a-43e3-a107-28a6aad0672f",
   "metadata": {},
   "outputs": [
    {
     "name": "stdout",
     "output_type": "stream",
     "text": [
      "1\n",
      "2\n",
      "(3, 4, 5, 6, 7)\n",
      "<class 'tuple'>\n",
      "28\n",
      "2\n",
      "3\n",
      "()\n",
      "<class 'tuple'>\n",
      "5\n"
     ]
    }
   ],
   "source": [
    "#It takes variable inputs amnd returns one outputs\n",
    "def sum2(a,b,*more): #In *more, it takes the extra arguments inside the more-tuple\n",
    "    print(a)\n",
    "    print(b)\n",
    "    print(more) #Here this way it operates the extra arguments thorugh more-tuple\n",
    "    print(type(more))\n",
    "    ans=a+b\n",
    "    for i in more: # Then accessed each item in tupple separetly and added them, as wholy is not possible as tuple not interact with int    \n",
    "        ans+=i\n",
    "    print(ans)\n",
    "    \n",
    "sum2(1,2,3,4,5,6,7) # variable inputs\n",
    "sum2(2,3)"
   ]
  },
  {
   "cell_type": "code",
   "execution_count": 163,
   "id": "c3d3ad12-2bf5-429d-aded-94ddd58b5aa7",
   "metadata": {},
   "outputs": [
    {
     "name": "stdout",
     "output_type": "stream",
     "text": [
      "2\n",
      "3\n",
      "[2, 3, 4]\n"
     ]
    }
   ],
   "source": [
    "#If we replace tuple by array then we needed to give arguments at the third one and have to make array symbol,\n",
    "# but not required with the tuple\n",
    "def sum3(a,b,more): \n",
    "    print(a)\n",
    "    print(b)\n",
    "    print(more)\n",
    "sum3(2,3,[2,3,4])"
   ]
  },
  {
   "cell_type": "code",
   "execution_count": 164,
   "id": "2b464c66-5cbe-41b4-944f-74bb01ef41aa",
   "metadata": {},
   "outputs": [
    {
     "name": "stdout",
     "output_type": "stream",
     "text": [
      "(15, 36, 4, 9)\n",
      "<class 'tuple'>\n"
     ]
    },
    {
     "data": {
      "text/plain": [
       "(15, 36, 4, 9)"
      ]
     },
     "execution_count": 164,
     "metadata": {},
     "output_type": "execute_result"
    }
   ],
   "source": [
    "#It takes prdefined inputs and return  variable outputs\n",
    "def sumMulDivDiff(a,b):\n",
    "    tupple=(a+b,a*b,a//b,a-b)\n",
    "    print(tupple)\n",
    "    print(type(tupple))\n",
    "    return tupple #fucntion will return the tupple holding the answers\n",
    "\n",
    "ans=sumMulDivDiff(12,3) \n",
    "ans #it also a tupple"
   ]
  },
  {
   "cell_type": "markdown",
   "id": "78eff4d3-bd9a-4bd5-b3f0-d785ae905e83",
   "metadata": {},
   "source": [
    "# Dictionaires \n",
    "* Can have inside anytype of keys corresponding to anytype of values\n",
    "* They are jus like mapping of key to the value, defined just like structures\n",
    "* Like in List the key was the index and value was the item stored at that index\n",
    "* Dictionaires are not immutable in nature, just like Lists\n",
    "* List: [ ]\n",
    "* Tuple: ( )\n",
    "* Dictionary: { }\n"
   ]
  },
  {
   "cell_type": "code",
   "execution_count": 165,
   "id": "c7b9d5bd-0e52-4535-be24-4341657c7e23",
   "metadata": {},
   "outputs": [
    {
     "name": "stdout",
     "output_type": "stream",
     "text": [
      "<class 'dict'>\n"
     ]
    }
   ],
   "source": [
    "d={}\n",
    "print(type(d))"
   ]
  },
  {
   "cell_type": "markdown",
   "id": "8aa54306-6a55-472e-9a36-fe426c4787ff",
   "metadata": {},
   "source": [
    "## Creation of dictionary"
   ]
  },
  {
   "cell_type": "code",
   "execution_count": 191,
   "id": "8a573042-b4f0-44dd-8c97-7341e1b85606",
   "metadata": {},
   "outputs": [
    {
     "name": "stdout",
     "output_type": "stream",
     "text": [
      "{'the': 1, 'a': 5, 1000: 'abc'}\n",
      "3\n",
      "{'the': 1, 'a': 5, 1000: 'abc', 'word': 1}\n",
      "4\n"
     ]
    }
   ],
   "source": [
    "a={\"the\":1,\"a\":5,1000:\"abc\"} # \"Keys\":Values, they both canbe anykind\n",
    "print(a)\n",
    "print(len(a))\n",
    "a[\"word\"]=1 #You can add the key with its value like this aslo in list formate like accessing the key formate \n",
    "print(a)\n",
    "print(len(a))"
   ]
  },
  {
   "cell_type": "code",
   "execution_count": 167,
   "id": "c54cf816-99ba-47a3-87d2-5c2121e9ed37",
   "metadata": {},
   "outputs": [
    {
     "name": "stdout",
     "output_type": "stream",
     "text": [
      "{'the': 1, 'a': 5, 1000: 'abc'}\n"
     ]
    }
   ],
   "source": [
    "b=a.copy() #b is another dictionary with same properties as of a\n",
    "print(b)"
   ]
  },
  {
   "cell_type": "markdown",
   "id": "cc6959ff-d872-439b-aa23-c321a3225282",
   "metadata": {},
   "source": [
    "### Creation of Dictionary from List"
   ]
  },
  {
   "cell_type": "code",
   "execution_count": 168,
   "id": "e9428db4-8d94-4aeb-bec7-57f80030918e",
   "metadata": {},
   "outputs": [
    {
     "ename": "TypeError",
     "evalue": "'dict' object is not callable",
     "output_type": "error",
     "traceback": [
      "\u001b[1;31m---------------------------------------------------------------------------\u001b[0m",
      "\u001b[1;31mTypeError\u001b[0m                                 Traceback (most recent call last)",
      "Cell \u001b[1;32mIn[168], line 3\u001b[0m\n\u001b[0;32m      1\u001b[0m \u001b[38;5;66;03m# Here you have to pass the list items into paired brackets,\u001b[39;00m\n\u001b[0;32m      2\u001b[0m \u001b[38;5;66;03m# which become Keys&Values in the future! \u001b[39;00m\n\u001b[1;32m----> 3\u001b[0m c\u001b[38;5;241m=\u001b[39m\u001b[38;5;28;43mdict\u001b[39;49m\u001b[43m(\u001b[49m\u001b[43m[\u001b[49m\u001b[43m(\u001b[49m\u001b[38;5;124;43m\"\u001b[39;49m\u001b[38;5;124;43mthe\u001b[39;49m\u001b[38;5;124;43m\"\u001b[39;49m\u001b[43m,\u001b[49m\u001b[38;5;241;43m3\u001b[39;49m\u001b[43m)\u001b[49m\u001b[43m,\u001b[49m\u001b[43m(\u001b[49m\u001b[38;5;124;43m\"\u001b[39;49m\u001b[38;5;124;43mOk\u001b[39;49m\u001b[38;5;124;43m\"\u001b[39;49m\u001b[43m,\u001b[49m\u001b[38;5;241;43m4\u001b[39;49m\u001b[43m)\u001b[49m\u001b[43m,\u001b[49m\u001b[43m(\u001b[49m\u001b[38;5;241;43m140\u001b[39;49m\u001b[43m,\u001b[49m\u001b[38;5;124;43m\"\u001b[39;49m\u001b[38;5;124;43mNice\u001b[39;49m\u001b[38;5;124;43m\"\u001b[39;49m\u001b[43m)\u001b[49m\u001b[43m,\u001b[49m\u001b[43m(\u001b[49m\u001b[38;5;124;43m\"\u001b[39;49m\u001b[38;5;124;43mThe\u001b[39;49m\u001b[38;5;124;43m\"\u001b[39;49m\u001b[43m,\u001b[49m\u001b[38;5;241;43m4\u001b[39;49m\u001b[43m)\u001b[49m\u001b[43m]\u001b[49m\u001b[43m)\u001b[49m\n\u001b[0;32m      4\u001b[0m \u001b[38;5;28mprint\u001b[39m(c)\n\u001b[0;32m      5\u001b[0m \u001b[38;5;28mprint\u001b[39m(\u001b[38;5;28mtype\u001b[39m(c))\n",
      "\u001b[1;31mTypeError\u001b[0m: 'dict' object is not callable"
     ]
    }
   ],
   "source": [
    "# Here you have to pass the list items into paired brackets,\n",
    "# which become Keys&Values in the future! \n",
    "c=dict([(\"the\",3),(\"Ok\",4),(140,\"Nice\"),(\"The\",4)])\n",
    "print(c)\n",
    "print(type(c))"
   ]
  },
  {
   "cell_type": "code",
   "execution_count": 169,
   "id": "9ce0159e-5b4f-4a76-89c2-47be186c83ab",
   "metadata": {},
   "outputs": [
    {
     "data": {
      "text/plain": [
       "{'abc': 12, 32: 12, 4: 12}"
      ]
     },
     "execution_count": 169,
     "metadata": {},
     "output_type": "execute_result"
    }
   ],
   "source": [
    "#here we would give different key-values and outside-[] have provide just \n",
    "# one item, which would considered as Value of all the keys else none will there\n",
    "d=dict.fromkeys([\"abc\",32,4],12)\n",
    "d"
   ]
  },
  {
   "cell_type": "markdown",
   "id": "d41f54b5-4486-4946-8c05-056f4f3f21d4",
   "metadata": {},
   "source": [
    "# Dictionairy Functions"
   ]
  },
  {
   "cell_type": "code",
   "execution_count": 170,
   "id": "b2628c25-b76c-43b3-9a2e-23850457374c",
   "metadata": {},
   "outputs": [
    {
     "name": "stdout",
     "output_type": "stream",
     "text": [
      "{1: 2, 3: 4, 'list': [12, 33], 'Dict': {'Sub': 12}, 'tuple': (12, 23)}\n"
     ]
    }
   ],
   "source": [
    "a={1:2,3:4,\"list\":[12,33],\"Dict\":{\"Sub\":12},\"tuple\":(12,23)}\n",
    "print(a)\n"
   ]
  },
  {
   "cell_type": "markdown",
   "id": "4591fe7e-6333-4e47-aebf-9a0e1c71e79f",
   "metadata": {},
   "source": [
    "## Accessing the data of the Dictionary"
   ]
  },
  {
   "cell_type": "code",
   "execution_count": 171,
   "id": "021b02eb-418e-40ad-880f-dd9f2c53c875",
   "metadata": {},
   "outputs": [
    {
     "name": "stdout",
     "output_type": "stream",
     "text": [
      "2\n",
      "[12, 33]\n",
      "{'Sub': 12}\n",
      "(12, 23)\n"
     ]
    }
   ],
   "source": [
    "#You can access these by typing the keys at as indexs in list representation\n",
    "print(a[1])\n",
    "print(a[\"list\"])\n",
    "print(a[\"Dict\"])\n",
    "print(a[\"tuple\"])"
   ]
  },
  {
   "cell_type": "code",
   "execution_count": 172,
   "id": "6380abeb-baf6-4646-8d66-b15d06ae43d6",
   "metadata": {},
   "outputs": [
    {
     "name": "stdout",
     "output_type": "stream",
     "text": [
      "[12, 33]\n",
      "None\n"
     ]
    }
   ],
   "source": [
    "#Here is another method which gives the dictionary's value \n",
    "# thorugh it's key from get-method,if false key given then returns none\n",
    "print(a.get(\"list\")) #VAlid key returns the respective value\n",
    "print(a.get(\"li\")) #Invalid key return only none"
   ]
  },
  {
   "cell_type": "markdown",
   "id": "963b4461-edd0-4bcd-9fe6-76833dd1c816",
   "metadata": {},
   "source": [
    "### .get(): returns the value of key listed inside but would return none if the key is invalid but if the invalid key has another argument with , in the bracket then that is considered as value of that illegal key,but with the legal key the legal value is considered only"
   ]
  },
  {
   "cell_type": "code",
   "execution_count": 173,
   "id": "f75b7576-a285-4d60-a2ca-f302892d114e",
   "metadata": {},
   "outputs": [
    {
     "name": "stdout",
     "output_type": "stream",
     "text": [
      "[12, 33]\n",
      "Ivy League\n",
      "{1: 2, 3: 4, 'list': [12, 33], 'Dict': {'Sub': 12}, 'tuple': (12, 23)}\n"
     ]
    }
   ],
   "source": [
    "print(a.get('list',0)) #Legal list gives the legal value from the dictionary leaving the second argument\n",
    "print(a.get('Anshuman','Ivy League')) #here it is illegal key, considered the value to second argument \n",
    "print(a)"
   ]
  },
  {
   "cell_type": "code",
   "execution_count": 174,
   "id": "41f7db92-691f-452d-9c80-61a84d4e23bf",
   "metadata": {},
   "outputs": [
    {
     "name": "stdout",
     "output_type": "stream",
     "text": [
      "dict_keys([1, 3, 'list', 'Dict', 'tuple'])\n",
      "dict_values([2, 4, [12, 33], {'Sub': 12}, (12, 23)])\n",
      "dict_items([(1, 2), (3, 4), ('list', [12, 33]), ('Dict', {'Sub': 12}), ('tuple', (12, 23))])\n"
     ]
    }
   ],
   "source": [
    "print(a.keys()) #Gives all the keys of the dictionary\n",
    "print(a.values()) #Gives all the values of the dictionary\n",
    "print(a.items()) #Gives all the items inside the dictionairy,returns the list of pairs of keys and values in tupples separate tupple inside common list: just like deining a dictionary"
   ]
  },
  {
   "cell_type": "markdown",
   "id": "f158b0c0-cbc5-4e31-af2c-84dae0b95c3c",
   "metadata": {},
   "source": [
    "## Using loop in dictionary"
   ]
  },
  {
   "cell_type": "code",
   "execution_count": 175,
   "id": "b67a85f5-2bf4-4153-b9f7-5553cced63dc",
   "metadata": {},
   "outputs": [
    {
     "name": "stdout",
     "output_type": "stream",
     "text": [
      "{1: 2, 3: 4, 'list': [12, 33], 'Dict': {'Sub': 12}, 'tuple': (12, 23)}\n",
      "1 2\n",
      "3 4\n",
      "list [12, 33]\n",
      "Dict {'Sub': 12}\n",
      "tuple (12, 23)\n"
     ]
    }
   ],
   "source": [
    "#Here a is dictionary\n",
    "print(a)\n",
    "\n",
    "for i in a:\n",
    "    # print(i) # By-default it will print key\n",
    "    print(i,a[i]) # As giving key as index to dictionary in list format would give respective value\n"
   ]
  },
  {
   "cell_type": "code",
   "execution_count": 176,
   "id": "6a8439d6-3a99-47ce-b572-c6f31617f4e9",
   "metadata": {},
   "outputs": [
    {
     "name": "stdout",
     "output_type": "stream",
     "text": [
      "2\n",
      "4\n",
      "[12, 33]\n",
      "{'Sub': 12}\n",
      "(12, 23)\n"
     ]
    }
   ],
   "source": [
    "#If you need only values, as there is bydefault procedure for key above, here below is for values printing\n",
    "for i in a.values():\n",
    "    print(i)"
   ]
  },
  {
   "cell_type": "code",
   "execution_count": 177,
   "id": "5a816a3c-d97f-4b7a-922d-4e8ca45d9ca5",
   "metadata": {},
   "outputs": [
    {
     "name": "stdout",
     "output_type": "stream",
     "text": [
      "True\n",
      "False\n"
     ]
    }
   ],
   "source": [
    "#Checking if item is present or not in Dictionary\n",
    "\n",
    "#Key:Below would only check the keys not values, if values are given it will\n",
    "#alse check them in keys\n",
    "print(\"list\" in a)#Tell whether Key is present or in dictionary\n",
    "print(\"li\" in a)"
   ]
  },
  {
   "cell_type": "markdown",
   "id": "a34f313f-639f-4bdd-9ff2-d7e546d1a6eb",
   "metadata": {},
   "source": [
    "## Concantation of Dictionary"
   ]
  },
  {
   "cell_type": "code",
   "execution_count": 178,
   "id": "341894a1-3c63-42c0-a94a-37a1d053585e",
   "metadata": {},
   "outputs": [
    {
     "name": "stdout",
     "output_type": "stream",
     "text": [
      "{1: 2, 'list': [1, 2], 3: 5, 5: 5}\n",
      "{4: 5, 3: 7}\n",
      "None\n",
      "{1: 2, 'list': [1, 2], 3: 7, 5: 5, 4: 5}\n"
     ]
    }
   ],
   "source": [
    "a={1:2,'list':[1,2],3:5,5:5}\n",
    "b={4:5,3:7}\n",
    "print(a)\n",
    "print(b)\n",
    "\n",
    "print(a.update(b)) # This will update \"a\" from adding and overriding \"b\" if same key different val\n",
    "print(a)"
   ]
  },
  {
   "cell_type": "code",
   "execution_count": 179,
   "id": "88ab95c6-2f6e-4726-a1b4-cae5e0d82f1a",
   "metadata": {},
   "outputs": [
    {
     "name": "stdout",
     "output_type": "stream",
     "text": [
      "{1: 2, 3: 7, 5: 5, 4: 5}\n",
      "{1: 2, 3: 7, 5: 5, 4: 5, 'list': 'Anshuman'}\n"
     ]
    }
   ],
   "source": [
    "a.pop(\"list\") #Would take out the key and correspoding list\n",
    "print(a) # gives error as their one key(list) is still empty need to be filled\n",
    "a[\"list\"]=\"Anshuman\"\n",
    "print(a)"
   ]
  },
  {
   "cell_type": "markdown",
   "id": "e01f0a0f-bd40-455a-b791-4188bdb9fdd9",
   "metadata": {},
   "source": [
    "## Print all the words with frequency=k"
   ]
  },
  {
   "cell_type": "code",
   "execution_count": 436,
   "id": "8447e205-e18e-488f-a3c9-d7b6c8e84eda",
   "metadata": {},
   "outputs": [
    {
     "name": "stdout",
     "output_type": "stream",
     "text": [
      "<class 'list'>\n",
      "['This', 'is', 'a', 'word', 'string', 'having', 'many', 'many', 'word']\n",
      "{'This': 1, 'is': 1, 'a': 1, 'word': 2, 'string': 1, 'having': 1, 'many': 2}\n"
     ]
    }
   ],
   "source": [
    "s=\"This is a word string having many many word\"\n",
    "k=2 # Freq is given \n",
    "words=s.split() #It would split the string wrt space store as tupple\n",
    "print(type(words))\n",
    "print(words)\n",
    "dict={} #Dictianry have to be made where keys are the words in the string and value it there frrequemcy\n",
    "#Method:1-for for assiging word as key and freq as value in a dictionary\n",
    "for w in words:\n",
    "    if w in dict: #Agr items in words list are already intilised in dictioary then only upagrade the value by 1 kyuki hmne intilise hi kiya hai value:1 rkhe   \n",
    "        dict[w]=dict[w]+1\n",
    "    else: #Now intilised the words'item in dictioary by giving its value 1\n",
    "        dict[w]=1\n",
    "print(dict)"
   ]
  },
  {
   "cell_type": "code",
   "execution_count": 215,
   "id": "13d0ded3-c6d9-4478-a88b-02b7ad365f9c",
   "metadata": {},
   "outputs": [
    {
     "name": "stdout",
     "output_type": "stream",
     "text": [
      "{'This': 2, 'is': 2, 'a': 2, 'word': 4, 'string': 2, 'having': 2, 'many': 4}\n"
     ]
    }
   ],
   "source": [
    "#More concise code for above:\n",
    "#Method:1-for for assiging word as key and freq as value in a dictionary\n",
    "for w in words:\n",
    "# dict[w]=dict[w]+1 #If we do this they it would give error without intlising word's item inside dict we are upgrading the value\n",
    "#That's why we checked first, if the item is new first intilised and the upgrade, if comes another time, but makes the code big, so efficinet code is:\n",
    "    dict[w]=dict.get(w,0)+1 #We used .get(item,value), if the item is not present , it would not give error rather it would intilised the item as key by value=0\n",
    "print(dict)"
   ]
  },
  {
   "cell_type": "code",
   "execution_count": 218,
   "id": "995a6e6c-dff3-4317-9c1c-4513dc9e3523",
   "metadata": {},
   "outputs": [
    {
     "name": "stdout",
     "output_type": "stream",
     "text": [
      "word\n",
      "many\n"
     ]
    }
   ],
   "source": [
    "#Now printing of the words matching with frequency:k=2\n",
    "for w in dict:\n",
    "    if dict[w]==k:\n",
    "        print(w) #Will print the word which have freq =2(k=2)"
   ]
  },
  {
   "cell_type": "code",
   "execution_count": 232,
   "id": "3f8322d6-1e97-4286-8ef5-50cc17b5151f",
   "metadata": {},
   "outputs": [
    {
     "name": "stdin",
     "output_type": "stream",
     "text": [
      " Anshuman is the best best human human in in the the world world\n",
      " 2\n"
     ]
    },
    {
     "name": "stdout",
     "output_type": "stream",
     "text": [
      "best\n",
      "human\n",
      "in\n",
      "world\n"
     ]
    }
   ],
   "source": [
    "#Now lets write the function for the above:\n",
    "def printKFreqWord(k,s):\n",
    "    line=string.split() #Would slice string wrt space,words is a tupple has all the wrods of string at every index\n",
    "    d={}\n",
    "    for w in line:\n",
    "        d[w]=d.get(w,0)+1\n",
    "    for w in d:\n",
    "        if d[w]==k:\n",
    "            print(w)\n",
    "\n",
    "#Calling function\n",
    "string=input()\n",
    "k=int(input())\n",
    "printKFreqWord(k,string)"
   ]
  },
  {
   "cell_type": "markdown",
   "id": "44ebe9d1-65fa-42a4-9b29-4b056946ddbf",
   "metadata": {},
   "source": [
    "# Sets\n",
    "* They also store the data,but no in ordered\n",
    "* Same defining as dictioanry but difference is that they donot have the values only keys\n",
    "* It doesnot ssupport indexing\n",
    "* It can be updated\n",
    "* Set donot allow to store repeated items in it, if stored, they stated as one element only"
   ]
  },
  {
   "cell_type": "code",
   "execution_count": 297,
   "id": "b651121f-cdc7-4c3b-8843-1e184c7e70cc",
   "metadata": {},
   "outputs": [
    {
     "name": "stdout",
     "output_type": "stream",
     "text": [
      "{100, 'Anshuman', 'Runny', 'Sahoo'}\n",
      "<class 'set'>\n",
      "4\n"
     ]
    }
   ],
   "source": [
    "a={\"Anshuman\",\"Sahoo\",100,\"Runny\"}\n",
    "print(a) #printed in anyother order as no order is deifned\n",
    "print(type(a))\n",
    "print(len(a))"
   ]
  },
  {
   "cell_type": "code",
   "execution_count": 298,
   "id": "f369ee1b-267c-41c7-92e3-3de4d15844d6",
   "metadata": {},
   "outputs": [
    {
     "ename": "TypeError",
     "evalue": "'set' object is not subscriptable",
     "output_type": "error",
     "traceback": [
      "\u001b[1;31m---------------------------------------------------------------------------\u001b[0m",
      "\u001b[1;31mTypeError\u001b[0m                                 Traceback (most recent call last)",
      "Cell \u001b[1;32mIn[298], line 1\u001b[0m\n\u001b[1;32m----> 1\u001b[0m \u001b[43ma\u001b[49m\u001b[43m[\u001b[49m\u001b[38;5;241;43m0\u001b[39;49m\u001b[43m]\u001b[49m \u001b[38;5;66;03m#Error as no indexing is there\u001b[39;00m\n\u001b[0;32m      2\u001b[0m a[\u001b[38;5;124m\"\u001b[39m\u001b[38;5;124mAnshuman\u001b[39m\u001b[38;5;124m\"\u001b[39m]\n",
      "\u001b[1;31mTypeError\u001b[0m: 'set' object is not subscriptable"
     ]
    }
   ],
   "source": [
    "a[0] #Error as no indexing is there\n",
    "a[\"Anshuman\"] #Also gives error as no value correspoding to the item, we can only just say that item is there or not\n"
   ]
  },
  {
   "cell_type": "code",
   "execution_count": 299,
   "id": "6e9f4230-6b0f-4c51-b42d-55e166676713",
   "metadata": {},
   "outputs": [
    {
     "name": "stdout",
     "output_type": "stream",
     "text": [
      "True\n",
      "False\n",
      "False\n"
     ]
    }
   ],
   "source": [
    "#Checking the items in the set oe ont\n",
    "print(\"Anshuman\" in a)\n",
    "print(\"Bruce Wayne\" in a)\n",
    "print(23 in a)"
   ]
  },
  {
   "cell_type": "code",
   "execution_count": 300,
   "id": "05b396fd-9e4b-4356-aa31-f9e406e1d255",
   "metadata": {},
   "outputs": [
    {
     "name": "stdout",
     "output_type": "stream",
     "text": [
      "{100, 'Anshuman', 'Runny', 'Sahoo'}\n",
      "100\n",
      "Anshuman\n",
      "Runny\n",
      "Sahoo\n"
     ]
    }
   ],
   "source": [
    "print(a)\n",
    "for  word in a:\n",
    "    print(word) "
   ]
  },
  {
   "cell_type": "code",
   "execution_count": 302,
   "id": "623202cf-58ed-4087-a415-1c4c7057aa0d",
   "metadata": {},
   "outputs": [
    {
     "name": "stdout",
     "output_type": "stream",
     "text": [
      "{100, 'Sahoo', 'Anshuman', 'BATMAN FOREVER', 'Runny', '~Batman'}\n"
     ]
    }
   ],
   "source": [
    "#Adding items inside the sets\n",
    "a.add(\"BATMAN FOREVER\")\n",
    "a.add(\"~Batman\")\n",
    "print(a)"
   ]
  },
  {
   "cell_type": "code",
   "execution_count": 303,
   "id": "0aa69010-1659-451f-acc3-bb3f680664c2",
   "metadata": {},
   "outputs": [
    {
     "name": "stdout",
     "output_type": "stream",
     "text": [
      "{'abc', 100, 'Sahoo', 'Anshuman', 'BATMAN FOREVER', 'Runny', 'ghi', '~Batman'}\n",
      "{'abc', 'ghi'}\n"
     ]
    }
   ],
   "source": [
    "#Updating the set by b\n",
    "b={'abc',\"ghi\"}\n",
    "a.update(b) #Now a will have items of b also\n",
    "print(a)\n",
    "print(b)"
   ]
  },
  {
   "cell_type": "code",
   "execution_count": 304,
   "id": "38c2c3e7-b86d-4a92-a361-455d2507b59b",
   "metadata": {},
   "outputs": [
    {
     "name": "stdout",
     "output_type": "stream",
     "text": [
      "{'abc', 100, 'Sahoo', 'Anshuman', 'BATMAN FOREVER', 'Runny', 'ghi'}\n"
     ]
    }
   ],
   "source": [
    "#Delete data\n",
    "# (1) ,remove, will remove the item, if item is not there give error\n",
    "a.remove('~Batman') # Will remove \n",
    "print(a)"
   ]
  },
  {
   "cell_type": "code",
   "execution_count": 305,
   "id": "d4fbf158-6fb7-4b51-b5db-1d7ec5f1d7ae",
   "metadata": {},
   "outputs": [
    {
     "name": "stdout",
     "output_type": "stream",
     "text": [
      "None\n"
     ]
    }
   ],
   "source": [
    "#Delete data\n",
    "# (2) .discard(), will remove if item is not there returns none\n",
    "print(a.discard(\"~Batman\"))"
   ]
  },
  {
   "cell_type": "code",
   "execution_count": 306,
   "id": "ae9df29c-d250-474b-9d35-223479da8ef9",
   "metadata": {},
   "outputs": [
    {
     "name": "stdout",
     "output_type": "stream",
     "text": [
      "abc\n"
     ]
    }
   ],
   "source": [
    "#(3) .pop(), will remove the random element \n",
    "print(a.pop())"
   ]
  },
  {
   "cell_type": "code",
   "execution_count": 313,
   "id": "d29fc21d-5e36-4489-bba0-c1762e2ba5b5",
   "metadata": {},
   "outputs": [
    {
     "name": "stdout",
     "output_type": "stream",
     "text": [
      "set()\n"
     ]
    }
   ],
   "source": [
    "#Clearing all the set items\n",
    "c={\"Abc\",123,34,5,\"Awesome\"}\n",
    "c.clear()\n",
    "print(c)"
   ]
  },
  {
   "cell_type": "code",
   "execution_count": 373,
   "id": "ca5711e8-eb33-4350-b3b8-d38db305c03e",
   "metadata": {},
   "outputs": [
    {
     "name": "stdout",
     "output_type": "stream",
     "text": [
      "{1, 2, 3, 4, 5, 6, 7, 8}\n"
     ]
    }
   ],
   "source": [
    "set={1,2,3,4,5,6,7,8,7,6,5,4,3,3,1} #No repeatation is entertained\n",
    "print(set)"
   ]
  },
  {
   "cell_type": "markdown",
   "id": "db9b8eff-8a86-41f4-89a9-1b4ee8ff1b7c",
   "metadata": {},
   "source": [
    "## Set-Function"
   ]
  },
  {
   "cell_type": "code",
   "execution_count": 359,
   "id": "dc671f00-9957-4ef9-9e4a-4c0928eeb464",
   "metadata": {},
   "outputs": [],
   "source": [
    "a={1,23,43,3,4}\n",
    "b={3,4,5,6}"
   ]
  },
  {
   "cell_type": "code",
   "execution_count": 329,
   "id": "45507796-7012-4399-bed7-3d6c82359e5e",
   "metadata": {},
   "outputs": [
    {
     "data": {
      "text/plain": [
       "{3, 4}"
      ]
     },
     "execution_count": 329,
     "metadata": {},
     "output_type": "execute_result"
    }
   ],
   "source": [
    "#(1):Intersection among sets\n",
    "a.intersection(b)"
   ]
  },
  {
   "cell_type": "code",
   "execution_count": 330,
   "id": "da2103c1-ccaf-48c7-96d5-660213be3877",
   "metadata": {},
   "outputs": [
    {
     "data": {
      "text/plain": [
       "{1, 3, 4, 5, 6, 23, 43}"
      ]
     },
     "execution_count": 330,
     "metadata": {},
     "output_type": "execute_result"
    }
   ],
   "source": [
    "#(2):union of sets\n",
    "a.union(b)"
   ]
  },
  {
   "cell_type": "code",
   "execution_count": 333,
   "id": "41df8be5-d0bd-4faa-9c3e-ebcb967164e4",
   "metadata": {},
   "outputs": [
    {
     "name": "stdout",
     "output_type": "stream",
     "text": [
      "{1, 43, 23}\n",
      "{5, 6}\n"
     ]
    }
   ],
   "source": [
    "#(3):Difference among sets:Everything that is in a but not in b\n",
    "print(a.difference(b))\n",
    "print(b.difference(a))"
   ]
  },
  {
   "cell_type": "code",
   "execution_count": 335,
   "id": "3202d431-8a58-4810-b072-440dc5ea6033",
   "metadata": {},
   "outputs": [
    {
     "name": "stdout",
     "output_type": "stream",
     "text": [
      "{1, 5, 6, 43, 23}\n",
      "{1, 5, 6, 43, 23}\n"
     ]
    }
   ],
   "source": [
    "#(4):Symmetric Difference :Union-intersection of a and b\n",
    "print(a.symmetric_difference(b))\n",
    "print(a.union(b)-a.intersection(b))"
   ]
  },
  {
   "cell_type": "code",
   "execution_count": 347,
   "id": "ae266359-5e21-45c0-9446-c3e34241cfe6",
   "metadata": {},
   "outputs": [
    {
     "name": "stdout",
     "output_type": "stream",
     "text": [
      "None\n",
      "{3, 4}\n",
      "{3, 4, 5, 6}\n"
     ]
    }
   ],
   "source": [
    "# (5):intersection_update:update the a by intersection of a&b\n",
    "print(a.intersection_update(b)) #Doesnot return anything rather updates\n",
    "print(a)\n",
    "print(b)"
   ]
  },
  {
   "cell_type": "code",
   "execution_count": 352,
   "id": "b7d8db68-a9ae-4e9f-87fd-186a33765651",
   "metadata": {},
   "outputs": [
    {
     "name": "stdout",
     "output_type": "stream",
     "text": [
      "None\n",
      "{1, 23, 43}\n",
      "{3, 4, 5, 6}\n"
     ]
    }
   ],
   "source": [
    "#similarly:differnce_upadte: a is replace by the differnce of ab\n",
    "print(a.difference_update(b))\n",
    "print(a)\n",
    "print(b)"
   ]
  },
  {
   "cell_type": "code",
   "execution_count": 354,
   "id": "1e98a96a-5cb6-4696-aa86-c03405f60ecd",
   "metadata": {},
   "outputs": [
    {
     "name": "stdout",
     "output_type": "stream",
     "text": [
      "None\n",
      "{1, 5, 6, 23, 43}\n",
      "{3, 4, 5, 6}\n"
     ]
    }
   ],
   "source": [
    "#Similarly:symmetric_difference_update: a is replaced by symm_diff of ab\n",
    "print(a.symmetric_difference_update(b))\n",
    "print(a)\n",
    "print(b)"
   ]
  },
  {
   "cell_type": "code",
   "execution_count": 367,
   "id": "a37aa391-225b-47c5-b971-a27bf23c2a29",
   "metadata": {},
   "outputs": [
    {
     "name": "stdout",
     "output_type": "stream",
     "text": [
      "False\n",
      "False\n"
     ]
    }
   ],
   "source": [
    "# (6)issubset:checks whether a is subset or not\n",
    "print(a.issubset(b))\n",
    "print(b.issubset(a))"
   ]
  },
  {
   "cell_type": "code",
   "execution_count": 368,
   "id": "d3be92b6-a93c-4e1e-8382-04ee460dfd59",
   "metadata": {},
   "outputs": [
    {
     "data": {
      "text/plain": [
       "True"
      ]
     },
     "execution_count": 368,
     "metadata": {},
     "output_type": "execute_result"
    }
   ],
   "source": [
    "c={1,23} #cEa\n",
    "c.issubset(a)"
   ]
  },
  {
   "cell_type": "code",
   "execution_count": 369,
   "id": "ba40825d-8b52-4af2-b7dd-c63f8865c53a",
   "metadata": {},
   "outputs": [
    {
     "data": {
      "text/plain": [
       "True"
      ]
     },
     "execution_count": 369,
     "metadata": {},
     "output_type": "execute_result"
    }
   ],
   "source": [
    "#(7) issuperset:\n",
    "a.issuperset(c)"
   ]
  },
  {
   "cell_type": "code",
   "execution_count": 364,
   "id": "f2f6533d-7fa9-4acb-b9c6-bf03691e7e12",
   "metadata": {},
   "outputs": [
    {
     "data": {
      "text/plain": [
       "True"
      ]
     },
     "execution_count": 364,
     "metadata": {},
     "output_type": "execute_result"
    }
   ],
   "source": [
    "#(8) isdisjoint: there is nothing common\n",
    "d={89,90}\n",
    "a.isdisjoint(d)"
   ]
  },
  {
   "cell_type": "markdown",
   "id": "ec2d71a0-d5a4-4dad-9912-9c31a722f7fe",
   "metadata": {},
   "source": [
    "## Problem: You have to find the sum of all numbers in summation repeatation of number is not allowed, as we know in sets or dictionary repetation items are not entertained, here we can use them"
   ]
  },
  {
   "cell_type": "code",
   "execution_count": 383,
   "id": "ba658d74-8144-4c49-ba5c-5e08c44a82c9",
   "metadata": {},
   "outputs": [
    {
     "name": "stdout",
     "output_type": "stream",
     "text": [
      "{11, 43, 54, 23}\n",
      "131\n"
     ]
    }
   ],
   "source": [
    "def SumUnique(set):\n",
    "    sum=0\n",
    "    print(set)\n",
    "    for i in set:\n",
    "        sum+=i \n",
    "    print(sum)\n",
    "set={11,23,11,23,43,54,43}\n",
    "SumUnique(set)"
   ]
  },
  {
   "cell_type": "code",
   "execution_count": 432,
   "id": "2a75913e-ec67-4912-87bb-ae5cf60da50b",
   "metadata": {},
   "outputs": [
    {
     "name": "stdout",
     "output_type": "stream",
     "text": [
      "{}\n",
      "<class 'dict'>\n",
      "set()\n",
      "<class 'set'>\n"
     ]
    }
   ],
   "source": [
    "d={} #Declaring an empty dictionary\n",
    "print(d)\n",
    "print(type(d))\n",
    "#creating an empty set: s=set()\n",
    "s={1}\n",
    "s.remove(1)\n",
    "print(s)\n",
    "print(type(s))"
   ]
  },
  {
   "cell_type": "code",
   "execution_count": 431,
   "id": "0b42da60-2eff-440a-a8f9-5b825282ca6d",
   "metadata": {},
   "outputs": [
    {
     "name": "stdout",
     "output_type": "stream",
     "text": [
      "{1, 2, 3, 4, 5, 6, 9}\n",
      "30\n"
     ]
    }
   ],
   "source": [
    "#If above function is done from user input:\n",
    "def InputSumUnique(l):\n",
    "    s={1}\n",
    "    s.remove(1)\n",
    "    sum=0\n",
    "    for i in l:\n",
    "        s.add(i)\n",
    "    print(s)\n",
    "    for i in s:\n",
    "        sum+=i\n",
    "    print(sum)\n",
    "l=(1,2,1,2,1,3,4,3,2,1,5,5,6,9)\n",
    "InputSumUnique(l)"
   ]
  }
 ],
 "metadata": {
  "kernelspec": {
   "display_name": "Python 3 (ipykernel)",
   "language": "python",
   "name": "python3"
  },
  "language_info": {
   "codemirror_mode": {
    "name": "ipython",
    "version": 3
   },
   "file_extension": ".py",
   "mimetype": "text/x-python",
   "name": "python",
   "nbconvert_exporter": "python",
   "pygments_lexer": "ipython3",
   "version": "3.10.9"
  }
 },
 "nbformat": 4,
 "nbformat_minor": 5
}
