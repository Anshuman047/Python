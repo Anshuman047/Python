{
 "cells": [
  {
   "cell_type": "markdown",
   "id": "65a27ed9-722f-4f2d-806d-90d580e10f79",
   "metadata": {},
   "source": [
    "# Operators"
   ]
  },
  {
   "cell_type": "markdown",
   "id": "7f2383c7-cd0f-4469-a271-c787830866bd",
   "metadata": {},
   "source": [
    "## Boolean"
   ]
  },
  {
   "cell_type": "code",
   "execution_count": 91,
   "id": "c1c6ea79-f572-4597-9a0a-62f73bdd5306",
   "metadata": {},
   "outputs": [
    {
     "data": {
      "text/plain": [
       "bool"
      ]
     },
     "execution_count": 91,
     "metadata": {},
     "output_type": "execute_result"
    }
   ],
   "source": [
    "#Boolean\n",
    "a=True\n",
    "b=False\n",
    "type(a)"
   ]
  },
  {
   "cell_type": "markdown",
   "id": "50ce5aeb-ea21-4762-9e84-5353731dcdb9",
   "metadata": {},
   "source": [
    "### Relational "
   ]
  },
  {
   "cell_type": "code",
   "execution_count": 92,
   "id": "d7b88d22-5b58-47f4-832c-2e1f9cfc18d5",
   "metadata": {},
   "outputs": [
    {
     "name": "stdout",
     "output_type": "stream",
     "text": [
      "False\n",
      "True\n",
      "False\n",
      "True\n",
      "False\n",
      "True\n"
     ]
    }
   ],
   "source": [
    "a=10\n",
    "b=20\n",
    "print(a>b) #1\n",
    "print(a<b) #2\n",
    "print(a>=b) #3\n",
    "print(a<=b) #4\n",
    "print(a==b) #5-checks if a is equal to b\n",
    "print(a!=b) #6\n"
   ]
  },
  {
   "cell_type": "markdown",
   "id": "5fcbf426-b0aa-4e84-b22b-e599c70bcdd6",
   "metadata": {},
   "source": [
    "### Logical"
   ]
  },
  {
   "cell_type": "code",
   "execution_count": 93,
   "id": "4dc80944-e740-4023-affb-96220a8be309",
   "metadata": {},
   "outputs": [
    {
     "name": "stdout",
     "output_type": "stream",
     "text": [
      "False True\n",
      "False\n",
      "True\n",
      "True\n"
     ]
    }
   ],
   "source": [
    "a=10\n",
    "b=20\n",
    "\n",
    "c1=a>10\n",
    "c2=b>10\n",
    "print(c1,c2)\n",
    "print(c1 and c2)\n",
    "print(c1 or c2)\n",
    "print(not(c1)) # not will used as inverter of the boolean"
   ]
  },
  {
   "cell_type": "markdown",
   "id": "abae9ed4-e947-4124-a1f7-c7cee8402d4e",
   "metadata": {},
   "source": [
    "# If-Else"
   ]
  },
  {
   "cell_type": "code",
   "execution_count": 100,
   "id": "e68cb99c-9e4d-435b-a8d1-5aa9e1b2dca0",
   "metadata": {},
   "outputs": [
    {
     "name": "stdout",
     "output_type": "stream",
     "text": [
      "I am inside!!\n"
     ]
    }
   ],
   "source": [
    "a=True\n",
    "if a:\n",
    "    print(\"I am inside!!\")\n",
    "else:\n",
    "    print(\"I am outside!!\")"
   ]
  },
  {
   "cell_type": "code",
   "execution_count": 94,
   "id": "c24fb11a-1b12-4a39-bd6a-cfc80dda6328",
   "metadata": {},
   "outputs": [
    {
     "name": "stdout",
     "output_type": "stream",
     "text": [
      "Give the input-digit: \n"
     ]
    },
    {
     "name": "stdin",
     "output_type": "stream",
     "text": [
      " 23\n"
     ]
    },
    {
     "name": "stdout",
     "output_type": "stream",
     "text": [
      "The number is odd!\n"
     ]
    }
   ],
   "source": [
    "#Check number to be odd or even\n",
    "print(\"Give the input-digit: \")\n",
    "a=int(input())\n",
    "if a%2==0:\n",
    "   print(\"The given number is Even\")\n",
    "else:\n",
    "   print(\"The number is odd!\")"
   ]
  },
  {
   "cell_type": "code",
   "execution_count": 95,
   "id": "2f88719e-8cc3-416b-a371-94a4e19912d8",
   "metadata": {},
   "outputs": [
    {
     "name": "stdin",
     "output_type": "stream",
     "text": [
      " 23\n",
      " 23\n"
     ]
    },
    {
     "name": "stdout",
     "output_type": "stream",
     "text": [
      "Both are greater than 10!!\n"
     ]
    }
   ],
   "source": [
    "#Check both conition true or not:\n",
    "\n",
    "a=int(input())\n",
    "b=int(input())\n",
    "\n",
    "c1=a>10\n",
    "c2=b>10\n",
    "\n",
    "if c1 and c2:\n",
    "    print(\"Both are greater than 10!!\")\n",
    "else:\n",
    "    print(\"Atleast one is false!!\")"
   ]
  },
  {
   "cell_type": "markdown",
   "id": "45ecda62-f48e-4bac-9cef-574dc6884a1a",
   "metadata": {},
   "source": [
    "# Elif"
   ]
  },
  {
   "cell_type": "code",
   "execution_count": 99,
   "id": "630d6458-aba0-48fd-b51e-08a6c06cb60a",
   "metadata": {},
   "outputs": [
    {
     "name": "stdin",
     "output_type": "stream",
     "text": [
      " 12\n",
      " 23\n",
      " 34\n"
     ]
    },
    {
     "name": "stdout",
     "output_type": "stream",
     "text": [
      "34\n"
     ]
    }
   ],
   "source": [
    "a=int(input())\n",
    "b=int(input())\n",
    "c=int(input())\n",
    "\n",
    "if a>b and a>c:\n",
    "    print(a)\n",
    "elif c>b and c>a:\n",
    "    print(c)\n",
    "elif b>a and b>c:\n",
    "    print(b)\n",
    "else :\n",
    "    print(\"Error\")"
   ]
  },
  {
   "cell_type": "markdown",
   "id": "ee00b0c1-e077-4812-82b2-3472e7047245",
   "metadata": {},
   "source": [
    "# Nested If-Else"
   ]
  },
  {
   "cell_type": "code",
   "execution_count": 97,
   "id": "d2b39c44-9b6a-4170-93a2-5596dc22bdde",
   "metadata": {},
   "outputs": [
    {
     "name": "stdin",
     "output_type": "stream",
     "text": [
      " 2323\n"
     ]
    },
    {
     "name": "stdout",
     "output_type": "stream",
     "text": [
      "N is odd\n"
     ]
    }
   ],
   "source": [
    "n=int(input())\n",
    "\n",
    "if n%2==0:\n",
    "    print(\"N is even\")\n",
    "    if n==0:\n",
    "        print(\"N is zero\")\n",
    "    elif n<0:\n",
    "        print(\"N is negative\")\n",
    "else:\n",
    "    print(\"N is odd\")"
   ]
  },
  {
   "cell_type": "code",
   "execution_count": 98,
   "id": "db71f6ab-e4da-4b44-93d8-208829070713",
   "metadata": {},
   "outputs": [
    {
     "name": "stdin",
     "output_type": "stream",
     "text": [
      " 23\n",
      " 23\n"
     ]
    },
    {
     "name": "stdout",
     "output_type": "stream",
     "text": [
      "Three\n"
     ]
    }
   ],
   "source": [
    "n=int(input())\n",
    "m=int(input())\n",
    "\n",
    "if n%2==0:\n",
    "    if m%2==0:\n",
    "        print(\"One\")\n",
    "    elif m%2!=0:\n",
    "        print(\"Two\")\n",
    "else:\n",
    "    print(\"Three\")"
   ]
  },
  {
   "cell_type": "markdown",
   "id": "df53a227-bf85-467d-8886-6a575feb9f95",
   "metadata": {},
   "source": [
    "# Loop"
   ]
  },
  {
   "cell_type": "markdown",
   "id": "64db778c-e59d-4aa0-a912-ecfbadc74144",
   "metadata": {},
   "source": [
    "## While-loop"
   ]
  },
  {
   "cell_type": "code",
   "execution_count": 104,
   "id": "bbe8a13f-b2fe-4f06-8372-34385450f978",
   "metadata": {},
   "outputs": [
    {
     "name": "stdout",
     "output_type": "stream",
     "text": [
      "Enter the count!!\n"
     ]
    },
    {
     "name": "stdin",
     "output_type": "stream",
     "text": [
      " 3\n"
     ]
    },
    {
     "name": "stdout",
     "output_type": "stream",
     "text": [
      "0\n",
      "1\n",
      "2\n",
      "3\n"
     ]
    }
   ],
   "source": [
    "print(\"Enter the count!!\")\n",
    "n=int(input())\n",
    "count=0\n",
    "\n",
    "while count<=n:\n",
    "    print(count)\n",
    "    count+=1"
   ]
  },
  {
   "cell_type": "code",
   "execution_count": 105,
   "id": "f4ff4bf0-929d-46bc-886d-9210096aec22",
   "metadata": {},
   "outputs": [
    {
     "name": "stdin",
     "output_type": "stream",
     "text": [
      " 7\n"
     ]
    },
    {
     "name": "stdout",
     "output_type": "stream",
     "text": [
      "1\n",
      "2\n",
      "3\n",
      "4\n",
      "5\n",
      "6\n",
      "7\n"
     ]
    }
   ],
   "source": [
    "# Print first n natural numbers\n",
    "n=int(input())\n",
    "count=0\n",
    "\n",
    "while count<n:\n",
    "    print(count+1)\n",
    "    count+=1"
   ]
  },
  {
   "cell_type": "code",
   "execution_count": 9,
   "id": "f2138c47-b0d0-40b2-8f61-ff92425b8c83",
   "metadata": {},
   "outputs": [
    {
     "name": "stdin",
     "output_type": "stream",
     "text": [
      " 2\n"
     ]
    },
    {
     "name": "stdout",
     "output_type": "stream",
     "text": [
      "Given number is prime!\n"
     ]
    }
   ],
   "source": [
    "# Check whether given number is prime or not\n",
    "n=int(input())\n",
    "count=2\n",
    "p=0\n",
    "while count<n:\n",
    "    if (n%count==0):\n",
    "        p+=1 \n",
    "    count+=1\n",
    "    \n",
    "if (p!=0):\n",
    "    print(\"Given number is non-prime!\")\n",
    "else:\n",
    "    print(\"Given number is prime!\")"
   ]
  },
  {
   "cell_type": "markdown",
   "id": "1d1c0a39-6748-43e8-9497-657decea657c",
   "metadata": {},
   "source": [
    "## Nested-While"
   ]
  },
  {
   "cell_type": "code",
   "execution_count": 13,
   "id": "d3828258-d32a-4834-818e-42bf74fa49bf",
   "metadata": {},
   "outputs": [
    {
     "name": "stdin",
     "output_type": "stream",
     "text": [
      " 78\n"
     ]
    },
    {
     "name": "stdout",
     "output_type": "stream",
     "text": [
      "Given number is prime! 73\n",
      "Given number is prime! 71\n",
      "Given number is prime! 67\n",
      "Given number is prime! 61\n",
      "Given number is prime! 59\n",
      "Given number is prime! 53\n",
      "Given number is prime! 47\n",
      "Given number is prime! 43\n",
      "Given number is prime! 41\n",
      "Given number is prime! 37\n",
      "Given number is prime! 31\n",
      "Given number is prime! 29\n",
      "Given number is prime! 23\n",
      "Given number is prime! 19\n",
      "Given number is prime! 17\n",
      "Given number is prime! 13\n",
      "Given number is prime! 11\n",
      "Given number is prime! 7\n",
      "Given number is prime! 5\n",
      "Given number is prime! 3\n",
      "Given number is prime! 2\n"
     ]
    }
   ],
   "source": [
    "# With above code- also print those prime numbers\n",
    "n=int(input())\n",
    "\n",
    "while n!=1:\n",
    "    count=2\n",
    "    p=0\n",
    "    while count<n:\n",
    "        if (n%count==0):\n",
    "            p+=1 \n",
    "        count+=1\n",
    "    \n",
    "    if(p==0):\n",
    "        print(\"Given number is prime!\",n)\n",
    "    n-=1"
   ]
  },
  {
   "cell_type": "code",
   "execution_count": 36,
   "id": "323af09b-49c0-4245-89ef-1f5214029e02",
   "metadata": {},
   "outputs": [
    {
     "name": "stdin",
     "output_type": "stream",
     "text": [
      " 6\n"
     ]
    },
    {
     "name": "stdout",
     "output_type": "stream",
     "text": [
      "1\n",
      "1\n",
      "2\n",
      "3\n",
      "5\n",
      "8\n"
     ]
    }
   ],
   "source": [
    "#Fibonacci series\n",
    "\n",
    "n=int(input())\n",
    "r=2\n",
    "p=1\n",
    "q=1\n",
    "print(\"1\")\n",
    "print(1)\n",
    "if n==1 or n==2:\n",
    "    print(1)\n",
    "else:\n",
    "    while r<n:\n",
    "        m=p+q\n",
    "        q=p\n",
    "        p=m\n",
    "        r+=1\n",
    "        print(p)\n",
    "\n",
    "\n"
   ]
  }
 ],
 "metadata": {
  "kernelspec": {
   "display_name": "Python 3 (ipykernel)",
   "language": "python",
   "name": "python3"
  },
  "language_info": {
   "codemirror_mode": {
    "name": "ipython",
    "version": 3
   },
   "file_extension": ".py",
   "mimetype": "text/x-python",
   "name": "python",
   "nbconvert_exporter": "python",
   "pygments_lexer": "ipython3",
   "version": "3.10.9"
  }
 },
 "nbformat": 4,
 "nbformat_minor": 5
}
