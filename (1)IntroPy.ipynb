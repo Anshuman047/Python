{
 "cells": [
  {
   "cell_type": "markdown",
   "id": "d1218afa-fdd8-49c6-b0be-e27823d9b102",
   "metadata": {
    "tags": []
   },
   "source": [
    "### print(\"HelloWorld\")\n",
    "print(\"HelloWorld\")\n",
    "90"
   ]
  },
  {
   "cell_type": "markdown",
   "id": "e3a881f0-4c03-4be0-b310-db0930cbcc23",
   "metadata": {},
   "source": [
    "### 3# for Header in Markdown"
   ]
  },
  {
   "cell_type": "markdown",
   "id": "d91cf94e-f2f2-46ff-932c-287edba66130",
   "metadata": {
    "tags": []
   },
   "source": [
    "## 2# for Header in Markdown"
   ]
  },
  {
   "cell_type": "markdown",
   "id": "3def08c6-1ce9-40e6-a7e1-13cc7af781fb",
   "metadata": {},
   "source": [
    "# 1# for Header in Markdown"
   ]
  },
  {
   "cell_type": "markdown",
   "id": "8d848d45-6dbb-4925-ac22-bcda78b2a30a",
   "metadata": {
    "tags": []
   },
   "source": [
    "# Variables"
   ]
  },
  {
   "cell_type": "code",
   "execution_count": 3,
   "id": "4b630ca2-0d40-4a7f-bed2-59299e1f8a90",
   "metadata": {},
   "outputs": [
    {
     "name": "stdout",
     "output_type": "stream",
     "text": [
      "30\n"
     ]
    }
   ],
   "source": [
    "a=10\n",
    "b=20\n",
    "sum=a+b\n",
    "print(sum)\n",
    "#Last line of the cell is the output of it.."
   ]
  },
  {
   "cell_type": "markdown",
   "id": "b1f0b52b-b000-4838-b059-28d90481dba4",
   "metadata": {},
   "source": [
    "### We can assign different types of data to the single variable"
   ]
  },
  {
   "cell_type": "code",
   "execution_count": 23,
   "id": "343b2483-bd18-4966-a733-e2799a8fc7ea",
   "metadata": {},
   "outputs": [
    {
     "name": "stdout",
     "output_type": "stream",
     "text": [
      "2584195760656\n"
     ]
    },
    {
     "data": {
      "text/plain": [
       "10"
      ]
     },
     "execution_count": 23,
     "metadata": {},
     "output_type": "execute_result"
    }
   ],
   "source": [
    "a=\"Anshuman sahoo\"\n",
    "a=20\n",
    "a=10\n",
    "# a=\"Anshuman Sahoo\"\n",
    "# Basically the variable contains a address of the container containing the data,every time you assign the different type var to same var, it only changes the address in it\n",
    "print(id(a)) # gives the ID stored inside a\n",
    "a # gives the value stored inside a\n"
   ]
  },
  {
   "cell_type": "code",
   "execution_count": 20,
   "id": "b878e89a-3291-4ec4-8702-23f59acdfe72",
   "metadata": {},
   "outputs": [
    {
     "name": "stdout",
     "output_type": "stream",
     "text": [
      "<class 'int'>\n",
      "<class 'str'>\n"
     ]
    }
   ],
   "source": [
    "type(a) #This would tell which data-type var is stored inside a\n",
    "print(type(a))\n",
    "a=\"Anshuman\" \n",
    "print(type(a))"
   ]
  },
  {
   "cell_type": "markdown",
   "id": "5d9c667d-a95f-4db3-a789-f748eef61583",
   "metadata": {},
   "source": [
    "## Numbers-Variables"
   ]
  },
  {
   "cell_type": "code",
   "execution_count": 11,
   "id": "ce3f5a5e-dc97-4a42-9ca7-3160d338a724",
   "metadata": {},
   "outputs": [
    {
     "name": "stdout",
     "output_type": "stream",
     "text": [
      "<class 'int'>\n",
      "<class 'float'>\n",
      "<class 'complex'>\n"
     ]
    }
   ],
   "source": [
    "a1=23 #intergers\n",
    "a2=3.4 #floating\n",
    "a3=4+5j #complex\n",
    "print(type(a1))\n",
    "print(type(a2))\n",
    "print(type(a3))"
   ]
  },
  {
   "cell_type": "code",
   "execution_count": 26,
   "id": "280b7feb-2b46-4cd2-ac29-f0df472b8456",
   "metadata": {},
   "outputs": [
    {
     "name": "stdout",
     "output_type": "stream",
     "text": [
      "2584195760656\n",
      "2584195760688\n"
     ]
    },
    {
     "data": {
      "text/plain": [
       "11"
      ]
     },
     "execution_count": 26,
     "metadata": {},
     "output_type": "execute_result"
    }
   ],
   "source": [
    "a=10 #a contains the address of container1 conatining 10\n",
    "print(id(a)) # address1\n",
    "a=a+1\n",
    "print(id(a)) # address2\n",
    "a # now it contains the address of container2 containing 11\n",
    "#In this a contains the address of the container containing \"10\" and then when it incremented by one, it saves the incremented value\"11\" into another container and saves its address in the a, rather just updating the 10 inside the its original place"
   ]
  },
  {
   "cell_type": "code",
   "execution_count": 35,
   "id": "600a1bc4-f04b-4468-8c37-81ce7b8a5abc",
   "metadata": {},
   "outputs": [
    {
     "name": "stdout",
     "output_type": "stream",
     "text": [
      "2584195768528\n",
      "2584195768528\n"
     ]
    }
   ],
   "source": [
    "a=256\n",
    "b=256\n",
    "print(id(a))\n",
    "print(id(b))\n",
    "# Differet variable will by-default show the same id as because, they are pointing to the same number\"s container\n",
    "# The above rule ony valid for the numbers from [-5,256]\n",
    "#Python donot have for stroing limits for intergers as of other languages which have 4bytes etc,storing intergers only depends upon the storage of the system only"
   ]
  },
  {
   "cell_type": "markdown",
   "id": "7678e930-4718-4672-b442-e6caad8726c1",
   "metadata": {},
   "source": [
    "## Arethmatic operators"
   ]
  },
  {
   "cell_type": "code",
   "execution_count": 40,
   "id": "c63a916d-1e67-4b43-a7bb-cb04c7f200df",
   "metadata": {},
   "outputs": [
    {
     "name": "stdout",
     "output_type": "stream",
     "text": [
      "23.5\n",
      "4.5\n"
     ]
    }
   ],
   "source": [
    "a=14\n",
    "b=9.5\n",
    "print(a+b)\n",
    "print(a-b)"
   ]
  },
  {
   "cell_type": "code",
   "execution_count": 43,
   "id": "ce45f5e0-1949-4e9f-91c2-7f4d04c8aa8c",
   "metadata": {},
   "outputs": [
    {
     "name": "stdout",
     "output_type": "stream",
     "text": [
      "133.0\n",
      "1.4736842105263157\n",
      "1.0\n"
     ]
    }
   ],
   "source": [
    "print(a*b)\n",
    "print(a/b) #Would give decimal also (floating point division)\n",
    "print(a//b) # would give non-decimal part only (integer division)"
   ]
  },
  {
   "cell_type": "code",
   "execution_count": 47,
   "id": "72b414be-fd69-4a27-8c01-95b4db53f9b7",
   "metadata": {},
   "outputs": [
    {
     "data": {
      "text/plain": [
       "8"
      ]
     },
     "execution_count": 47,
     "metadata": {},
     "output_type": "execute_result"
    }
   ],
   "source": [
    "a=2\n",
    "b=3\n",
    "a**b # would give the exponantiation-form"
   ]
  },
  {
   "cell_type": "code",
   "execution_count": 49,
   "id": "a0225f86-b1e6-4ee6-8c52-03350d85b100",
   "metadata": {},
   "outputs": [
    {
     "data": {
      "text/plain": [
       "2"
      ]
     },
     "execution_count": 49,
     "metadata": {},
     "output_type": "execute_result"
    }
   ],
   "source": [
    "a % b # would give the reaminder"
   ]
  },
  {
   "cell_type": "markdown",
   "id": "65826feb-60d0-412b-937d-a54d8397616f",
   "metadata": {},
   "source": [
    "### Ex-Simple interest to lowest integer"
   ]
  },
  {
   "cell_type": "code",
   "execution_count": 60,
   "id": "d40b982c-0bef-4820-ab2c-b032deb9842c",
   "metadata": {},
   "outputs": [
    {
     "data": {
      "text/plain": [
       "24"
      ]
     },
     "execution_count": 60,
     "metadata": {},
     "output_type": "execute_result"
    }
   ],
   "source": [
    "p=100\n",
    "r=12\n",
    "t=2\n",
    "simpleInterest=(p*t*r)//100 #Always give brackets on what you want to be first calculated\n",
    "simpleInterest"
   ]
  },
  {
   "cell_type": "markdown",
   "id": "3da6d56f-6a30-4b58-9e67-185d886cefbb",
   "metadata": {},
   "source": [
    "### Ex-Farh to celcium conversion"
   ]
  },
  {
   "cell_type": "code",
   "execution_count": 63,
   "id": "a33b29f6-b872-4eee-ba07-be2373fe078e",
   "metadata": {},
   "outputs": [
    {
     "data": {
      "text/plain": [
       "37.77777777777778"
      ]
     },
     "execution_count": 63,
     "metadata": {},
     "output_type": "execute_result"
    }
   ],
   "source": [
    "f=100\n",
    "c=(f-32)*5/9 #Always give brackets on what you want to be first calculated\n",
    "c"
   ]
  },
  {
   "cell_type": "markdown",
   "id": "1ba92465-80eb-4a02-bc21-118b99aa5ecf",
   "metadata": {},
   "source": [
    "# User-Input"
   ]
  },
  {
   "cell_type": "code",
   "execution_count": 4,
   "id": "b043a053-ad05-4feb-ae1f-af7699851db6",
   "metadata": {},
   "outputs": [
    {
     "name": "stdin",
     "output_type": "stream",
     "text": [
      " Anshuman\n",
      " Sahoo\n"
     ]
    },
    {
     "name": "stdout",
     "output_type": "stream",
     "text": [
      "Anshuman Sahoo is my name!!\n"
     ]
    }
   ],
   "source": [
    "Name=input()\n",
    "Name2=input()\n",
    "print(Name,Name2,\"is my name!!\")"
   ]
  },
  {
   "cell_type": "code",
   "execution_count": 3,
   "id": "5260512f-dc36-41f2-afd1-839eb76d193e",
   "metadata": {},
   "outputs": [
    {
     "name": "stdin",
     "output_type": "stream",
     "text": [
      " 12\n"
     ]
    },
    {
     "name": "stdout",
     "output_type": "stream",
     "text": [
      "<class 'str'>\n"
     ]
    },
    {
     "name": "stdin",
     "output_type": "stream",
     "text": [
      " 23\n"
     ]
    },
    {
     "name": "stdout",
     "output_type": "stream",
     "text": [
      "<class 'str'>\n",
      "1223\n"
     ]
    }
   ],
   "source": [
    "a=input()\n",
    "print(type(a))\n",
    "\n",
    "b=input()\n",
    "print(type(b))\n",
    "s=(a+b) #By default the input() operation takes input as string by default irrespective of the input, in which when we are giving add command, it gives output as concataion-string means adding the string\n",
    "print(s)"
   ]
  },
  {
   "cell_type": "code",
   "execution_count": 7,
   "id": "7db197ee-938a-40c3-8f3d-7a501c8e3ec6",
   "metadata": {},
   "outputs": [
    {
     "name": "stdin",
     "output_type": "stream",
     "text": [
      " 12\n"
     ]
    },
    {
     "name": "stdout",
     "output_type": "stream",
     "text": [
      "<class 'int'>\n"
     ]
    },
    {
     "name": "stdin",
     "output_type": "stream",
     "text": [
      " 23\n"
     ]
    },
    {
     "name": "stdout",
     "output_type": "stream",
     "text": [
      "<class 'int'>\n",
      "35\n"
     ]
    },
    {
     "data": {
      "text/plain": [
       "'1223'"
      ]
     },
     "execution_count": 7,
     "metadata": {},
     "output_type": "execute_result"
    }
   ],
   "source": [
    "# So we need to type-cast the default inputed string into required data-type that we need \n",
    "a=input()\n",
    "b=int(a)\n",
    "print(type(b))\n",
    "\n",
    "c=input()\n",
    "d=int(c)\n",
    "print(type(d))\n",
    "\n",
    "e=(b+d) #Will add the integer, which is being typecasted from string in above code\n",
    "print(e)\n",
    "a+c #Would give string part"
   ]
  },
  {
   "cell_type": "code",
   "execution_count": 16,
   "id": "50d1a8d1-eb5b-41be-bc66-57f003b346d1",
   "metadata": {},
   "outputs": [
    {
     "name": "stdin",
     "output_type": "stream",
     "text": [
      " 12\n",
      " 23\n"
     ]
    },
    {
     "name": "stdout",
     "output_type": "stream",
     "text": [
      "35\n"
     ]
    }
   ],
   "source": [
    "#Directly taling the input as int from typecasting at input\n",
    "a=int(input())\n",
    "b=int(input())\n",
    "print(a+b)"
   ]
  },
  {
   "cell_type": "code",
   "execution_count": 13,
   "id": "433f407b-92dd-4040-ba72-c61356538fd9",
   "metadata": {},
   "outputs": [
    {
     "name": "stdin",
     "output_type": "stream",
     "text": [
      " 2.5\n"
     ]
    },
    {
     "name": "stdout",
     "output_type": "stream",
     "text": [
      "<class 'float'>\n"
     ]
    },
    {
     "data": {
      "text/plain": [
       "2.5"
      ]
     },
     "execution_count": 13,
     "metadata": {},
     "output_type": "execute_result"
    }
   ],
   "source": [
    "#Directly taking the input as float from typecasting at input\n",
    "a=float(input())\n",
    "print(type(a))\n",
    "a"
   ]
  },
  {
   "cell_type": "code",
   "execution_count": 15,
   "id": "366b28e9-5023-4c68-8074-dc28b355e911",
   "metadata": {},
   "outputs": [
    {
     "data": {
      "text/plain": [
       "4.5"
      ]
     },
     "execution_count": 15,
     "metadata": {},
     "output_type": "execute_result"
    }
   ],
   "source": [
    "s=\"4.5\" #string\n",
    "float(s) #string converted into float by typecasting"
   ]
  },
  {
   "cell_type": "code",
   "execution_count": 20,
   "id": "e70f0d68-9ca5-40c2-ac4d-27d6a60d390d",
   "metadata": {},
   "outputs": [
    {
     "name": "stdin",
     "output_type": "stream",
     "text": [
      " 12\n",
      " 23\n",
      " 34\n"
     ]
    },
    {
     "data": {
      "text/plain": [
       "93.84"
      ]
     },
     "execution_count": 20,
     "metadata": {},
     "output_type": "execute_result"
    }
   ],
   "source": [
    "# Simple INterest using typecasting from float\n",
    "p=float(input())\n",
    "r=float(input())\n",
    "t=float(input())\n",
    "SI=(p*r*t)/100\n",
    "SI"
   ]
  },
  {
   "cell_type": "markdown",
   "id": "c91949e8-aca8-4799-bcbb-06a86d0e965a",
   "metadata": {},
   "source": [
    "### Assignment"
   ]
  },
  {
   "cell_type": "code",
   "execution_count": 41,
   "id": "801ddd81-5bea-4104-ac58-aed59d756914",
   "metadata": {},
   "outputs": [
    {
     "name": "stdin",
     "output_type": "stream",
     "text": [
      " 2\n",
      " 3\n",
      " 4\n"
     ]
    },
    {
     "name": "stdout",
     "output_type": "stream",
     "text": [
      "3.0\n"
     ]
    }
   ],
   "source": [
    "# 23\n",
    "a=int(input())\n",
    "b=int(input())\n",
    "c=int(input())\n",
    "Avg=(a+b+c)/3 \n",
    "print(Avg)"
   ]
  },
  {
   "cell_type": "code",
   "execution_count": 33,
   "id": "5e48ab88-deaa-4bf3-9d72-4110c17817e5",
   "metadata": {},
   "outputs": [
    {
     "name": "stdin",
     "output_type": "stream",
     "text": [
      " 10\n",
      " 4\n"
     ]
    },
    {
     "name": "stdout",
     "output_type": "stream",
     "text": [
      "10000\n"
     ]
    }
   ],
   "source": [
    "#24.1\n",
    "X=int(input())\n",
    "if X<1 or X>100:\n",
    "  print(\"Illegeal Input\")\n",
    "\n",
    "N=int(input())\n",
    "if N<1 or N>100:\n",
    "    print(\"Illegeal Input\")\n",
    "    \n",
    "print(X**N)"
   ]
  },
  {
   "cell_type": "code",
   "execution_count": 40,
   "id": "6be73a75-18eb-437f-8be5-57664de40527",
   "metadata": {},
   "outputs": [
    {
     "name": "stdin",
     "output_type": "stream",
     "text": [
      " 1\n",
      " 3\n",
      " 5\n"
     ]
    },
    {
     "name": "stdout",
     "output_type": "stream",
     "text": [
      "The common Difference is: 2\n"
     ]
    }
   ],
   "source": [
    "#24.2\n",
    "a=int(input())\n",
    "b=int(input())\n",
    "c=int(input())\n",
    "\n",
    "if b-a==c-b:\n",
    "    print(\"The common Difference is:\",b-a)\n",
    "else:\n",
    "    print(\"Illegeaql AP!!\")"
   ]
  },
  {
   "cell_type": "code",
   "execution_count": 43,
   "id": "35d157c0-d70f-4e6d-a760-5b5a0d0d3479",
   "metadata": {},
   "outputs": [],
   "source": [
    "#24.3\n",
    "\n"
   ]
  }
 ],
 "metadata": {
  "kernelspec": {
   "display_name": "Python 3 (ipykernel)",
   "language": "python",
   "name": "python3"
  },
  "language_info": {
   "codemirror_mode": {
    "name": "ipython",
    "version": 3
   },
   "file_extension": ".py",
   "mimetype": "text/x-python",
   "name": "python",
   "nbconvert_exporter": "python",
   "pygments_lexer": "ipython3",
   "version": "3.10.9"
  }
 },
 "nbformat": 4,
 "nbformat_minor": 5
}
